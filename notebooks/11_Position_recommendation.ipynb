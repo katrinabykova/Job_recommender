{
 "cells": [
  {
   "cell_type": "code",
   "execution_count": 34,
   "metadata": {
    "ExecuteTime": {
     "end_time": "2019-11-12T23:01:16.041884Z",
     "start_time": "2019-11-12T23:01:15.975308Z"
    }
   },
   "outputs": [],
   "source": [
    "import pandas as pd\n",
    "import os\n",
    "import re\n",
    "from bs4 import BeautifulSoup\n",
    "import requests\n",
    "import re\n",
    "import nltk\n",
    "import textcleaner\n",
    "import pickle\n",
    "import spacy\n",
    "import jieba\n",
    "\n",
    "from sklearn.feature_extraction.text import CountVectorizer \n",
    "from sklearn.decomposition import TruncatedSVD\n",
    "from sklearn.decomposition import NMF\n",
    "from sklearn.metrics.pairwise import cosine_similarity\n",
    "from sklearn.feature_extraction.text import TfidfVectorizer\n",
    "from nltk.tokenize import word_tokenize, sent_tokenize\n",
    "from textblob import TextBlob\n",
    "import textcleaner as tc\n",
    "from nltk.stem import WordNetLemmatizer \n",
    "import re\n",
    "import spacy"
   ]
  },
  {
   "cell_type": "code",
   "execution_count": 2,
   "metadata": {
    "ExecuteTime": {
     "end_time": "2019-11-12T22:23:22.783445Z",
     "start_time": "2019-11-12T22:23:22.771303Z"
    }
   },
   "outputs": [],
   "source": [
    "import warnings\n",
    "warnings.filterwarnings('ignore')"
   ]
  },
  {
   "cell_type": "code",
   "execution_count": 3,
   "metadata": {
    "ExecuteTime": {
     "end_time": "2019-11-12T22:23:22.861088Z",
     "start_time": "2019-11-12T22:23:22.785442Z"
    }
   },
   "outputs": [],
   "source": [
    "%load_ext autoreload\n",
    "%autoreload 2"
   ]
  },
  {
   "cell_type": "code",
   "execution_count": 4,
   "metadata": {
    "ExecuteTime": {
     "end_time": "2019-11-12T22:23:26.743752Z",
     "start_time": "2019-11-12T22:23:22.864635Z"
    }
   },
   "outputs": [
    {
     "name": "stdout",
     "output_type": "stream",
     "text": [
      "Obtaining file:///Users/greenapple/project4\n",
      "Installing collected packages: src\n",
      "  Found existing installation: src 0.1.0\n",
      "    Uninstalling src-0.1.0:\n",
      "      Successfully uninstalled src-0.1.0\n",
      "  Running setup.py develop for src\n",
      "Successfully installed src\n"
     ]
    }
   ],
   "source": [
    "! pip install --editable .."
   ]
  },
  {
   "cell_type": "markdown",
   "metadata": {},
   "source": [
    "# Load positions"
   ]
  },
  {
   "cell_type": "code",
   "execution_count": 8,
   "metadata": {
    "ExecuteTime": {
     "end_time": "2019-11-12T22:25:39.773585Z",
     "start_time": "2019-11-12T22:25:38.942059Z"
    }
   },
   "outputs": [],
   "source": [
    "# Load tokenized text for WA\n",
    "pickling_out = open('/Users/greenapple/project4/data/processed/jobs_skills_token.pkl', 'rb')\n",
    "jobs_skills = pickle.load(pickling_out)"
   ]
  },
  {
   "cell_type": "code",
   "execution_count": 126,
   "metadata": {
    "ExecuteTime": {
     "end_time": "2019-11-13T00:13:03.056585Z",
     "start_time": "2019-11-13T00:13:02.972677Z"
    }
   },
   "outputs": [
    {
     "data": {
      "text/plain": [
       "((5058, 20), (8939, 20))"
      ]
     },
     "execution_count": 126,
     "metadata": {},
     "output_type": "execute_result"
    }
   ],
   "source": [
    "# Data scientist/analyst jobs only\n",
    "jobs_skills_d = jobs_skills.loc[jobs_skills.type=='positive']\n",
    "jobs_skills_d.reset_index(inplace=True, drop=True)\n",
    "jobs_skills_d.shape, jobs_skills.shape"
   ]
  },
  {
   "cell_type": "code",
   "execution_count": 287,
   "metadata": {
    "ExecuteTime": {
     "end_time": "2019-11-13T01:46:22.018214Z",
     "start_time": "2019-11-13T01:46:21.939635Z"
    },
    "collapsed": true
   },
   "outputs": [
    {
     "name": "stdout",
     "output_type": "stream",
     "text": [
      "<class 'pandas.core.frame.DataFrame'>\n",
      "RangeIndex: 5058 entries, 0 to 5057\n",
      "Data columns (total 20 columns):\n",
      "company_name         5057 non-null object\n",
      "description          5058 non-null object\n",
      "job_title            5058 non-null object\n",
      "link                 5058 non-null object\n",
      "location             5058 non-null object\n",
      "salary               5013 non-null object\n",
      "type                 5058 non-null object\n",
      "clean_text           5058 non-null object\n",
      "noun                 5058 non-null object\n",
      "noun_lemma           5058 non-null object\n",
      "lemma                5058 non-null object\n",
      "word                 5058 non-null object\n",
      "sentences            5058 non-null object\n",
      "start_stop           5058 non-null object\n",
      "skills               5058 non-null object\n",
      "clean_skills         5058 non-null object\n",
      "word_skills          5058 non-null object\n",
      "noun_skills          5058 non-null object\n",
      "lemma_skills         5058 non-null object\n",
      "noun_lemma_skills    5058 non-null object\n",
      "dtypes: object(20)\n",
      "memory usage: 790.4+ KB\n"
     ]
    }
   ],
   "source": [
    "jobs_skills_d.info()"
   ]
  },
  {
   "cell_type": "code",
   "execution_count": 127,
   "metadata": {
    "ExecuteTime": {
     "end_time": "2019-11-13T00:13:05.732305Z",
     "start_time": "2019-11-13T00:13:05.667137Z"
    }
   },
   "outputs": [
    {
     "data": {
      "text/plain": [
       "((3881, 20), (8939, 20))"
      ]
     },
     "execution_count": 127,
     "metadata": {},
     "output_type": "execute_result"
    }
   ],
   "source": [
    "# Not data scientist/analyst jobs only\n",
    "jobs_skills_n = jobs_skills.loc[jobs_skills.type!='positive']\n",
    "jobs_skills_n.reset_index(inplace=True, drop=True)\n",
    "jobs_skills_n.shape, jobs_skills.shape"
   ]
  },
  {
   "cell_type": "code",
   "execution_count": 13,
   "metadata": {
    "ExecuteTime": {
     "end_time": "2019-11-12T22:25:59.678257Z",
     "start_time": "2019-11-12T22:25:59.614292Z"
    }
   },
   "outputs": [
    {
     "data": {
      "text/plain": [
       "Index(['company_name', 'description', 'job_title', 'link', 'location',\n",
       "       'salary', 'type', 'clean_text', 'noun', 'noun_lemma', 'lemma', 'word',\n",
       "       'sentences', 'start_stop', 'skills', 'clean_skills', 'word_skills',\n",
       "       'noun_skills', 'lemma_skills', 'noun_lemma_skills'],\n",
       "      dtype='object')"
      ]
     },
     "execution_count": 13,
     "metadata": {},
     "output_type": "execute_result"
    }
   ],
   "source": [
    "jobs_skills_d.columns"
   ]
  },
  {
   "cell_type": "markdown",
   "metadata": {},
   "source": [
    "# Load resumes"
   ]
  },
  {
   "cell_type": "code",
   "execution_count": 238,
   "metadata": {
    "ExecuteTime": {
     "end_time": "2019-11-13T01:17:35.122833Z",
     "start_time": "2019-11-13T01:17:35.063571Z"
    }
   },
   "outputs": [],
   "source": [
    "# Load resumes\n",
    "pickling_out = open('/Users/greenapple/project4/data/resumes/resumes_111219', 'rb')\n",
    "resumes_list_1 = pickle.load(pickling_out)"
   ]
  },
  {
   "cell_type": "code",
   "execution_count": 239,
   "metadata": {
    "ExecuteTime": {
     "end_time": "2019-11-13T01:17:36.587577Z",
     "start_time": "2019-11-13T01:17:36.527824Z"
    }
   },
   "outputs": [],
   "source": [
    "# Add a job description as a positive control\n",
    "pos1 = jobs_skills_d.skills[298] # Job298 returns high score for Resume1\n",
    "resumes_list_1.append(pos1)"
   ]
  },
  {
   "cell_type": "code",
   "execution_count": 240,
   "metadata": {
    "ExecuteTime": {
     "end_time": "2019-11-13T01:17:37.111350Z",
     "start_time": "2019-11-13T01:17:37.053683Z"
    }
   },
   "outputs": [],
   "source": [
    "# Add a job description as a negative control\n",
    "pos2 = jobs_skills_n.skills[3]\n",
    "resumes_list_1.append(pos2)"
   ]
  },
  {
   "cell_type": "code",
   "execution_count": 241,
   "metadata": {
    "ExecuteTime": {
     "end_time": "2019-11-13T01:17:44.135422Z",
     "start_time": "2019-11-13T01:17:44.075643Z"
    }
   },
   "outputs": [],
   "source": [
    "# To dataframe\n",
    "resumes = pd.DataFrame(resumes_list_1, columns = ['description'])\n",
    "pd.set_option('max_colwidth', 200)  # display strings"
   ]
  },
  {
   "cell_type": "code",
   "execution_count": 242,
   "metadata": {
    "ExecuteTime": {
     "end_time": "2019-11-13T01:17:44.857864Z",
     "start_time": "2019-11-13T01:17:44.793877Z"
    }
   },
   "outputs": [
    {
     "data": {
      "text/html": [
       "<div>\n",
       "<style scoped>\n",
       "    .dataframe tbody tr th:only-of-type {\n",
       "        vertical-align: middle;\n",
       "    }\n",
       "\n",
       "    .dataframe tbody tr th {\n",
       "        vertical-align: top;\n",
       "    }\n",
       "\n",
       "    .dataframe thead th {\n",
       "        text-align: right;\n",
       "    }\n",
       "</style>\n",
       "<table border=\"1\" class=\"dataframe\">\n",
       "  <thead>\n",
       "    <tr style=\"text-align: right;\">\n",
       "      <th></th>\n",
       "      <th>description</th>\n",
       "    </tr>\n",
       "  </thead>\n",
       "  <tbody>\n",
       "    <tr>\n",
       "      <td>0</td>\n",
       "      <td>ROB\\nJOHNS,\\nPH.D\\n\\nDATA SCIENTIST\\n&amp; Robjohns989@gmail.com\\n&amp; +1989.859.6960\\n\\n9 Seattle, WA\\n\\nin linkedin.com/in/RWJohns/\\n© RWJohns\\n\\nAn experienced data-analyst\\nwith a background in utili...</td>\n",
       "    </tr>\n",
       "    <tr>\n",
       "      <td>1</td>\n",
       "      <td>JEREMY LEHNER\\n\\nSUMMARY\\n\\nDATA SCIENTIST | DATA ANALYST\\n\\nCONTACT\\n\\n \\n\\nData Scientist with a PhD in computational chemistry. Over 5 years experience in\\nstochastic modeling of quantum system...</td>\n",
       "    </tr>\n",
       "    <tr>\n",
       "      <td>2</td>\n",
       "      <td>DAVID ALEXANDER LOU\\n\\nDATA SCIENTIST | ECONOMIST\\n\\nSUMMARY\\n\\nData Scientist/Economist who is passionate about machine learning, data insight\\n(story telling), and applied statistics/mathematics...</td>\n",
       "    </tr>\n",
       "    <tr>\n",
       "      <td>3</td>\n",
       "      <td>FATIMA LOUMAINI, CSM CCBA DATA SCIENTIST\\n\\n   \\n\\nfatima.loumaini@gmail.com %&amp; 4253669273 in linkedin.com/in/fatima-loumaini85 © floumaini\\n\\nSUMMARY\\n\\n8+ years of experience in various customer...</td>\n",
       "    </tr>\n",
       "    <tr>\n",
       "      <td>4</td>\n",
       "      <td>Aisulu Omar\\n\\nLINKS\\n\\nPortfolio\\nhttps://www.aisuluomar.com\\n\\nGithub\\nhttps://github.com/AisOmar\\n\\nData Blog\\nhttps://medium.com/@aisuluomar123\\n\\nLinkedIn\\nlinkedin.com/in/aisulu-omar-6700551...</td>\n",
       "    </tr>\n",
       "    <tr>\n",
       "      <td>5</td>\n",
       "      <td>EXPERIENCE\\n\\nEDUCATION\\n\\nSKILLS\\n\\nLaisha Conn\\n\\n4858 Schowalter Fords, Detroit, MI # Phot\\n\\n \\n\\nSENIOR CLINICAL TRIALS ASSISTANT\\n\\n‘Los Angeles, CA.\\n09/2016 ~ present\\n‘+ Perform assigned ...</td>\n",
       "    </tr>\n",
       "    <tr>\n",
       "      <td>6</td>\n",
       "      <td>Robert Smith Phono (22) 456789\\n\\nmall Infocuvikresume,com\\nWebsite : wou, quikrestime, com\\nLinkedin: linkedin.corn/quikresume\\n‘Address; 1737 Marshullle Road, Alabarna\\n\\n \\n\\nClinical Research ...</td>\n",
       "    </tr>\n",
       "    <tr>\n",
       "      <td>7</td>\n",
       "      <td>REGINA MOSLEY, CCRC\\n\\n \\n\\nAtlanta Georgia « 404-727-1086 « in’\\n\\n \\n\\n3@emory.e\\n\\n \\n\\nlu\\n\\n   \\n\\ninkedin.com/profile/view?id=592879548trk=hp identity-name\\n\\nLead Clinical Research Coordina...</td>\n",
       "    </tr>\n",
       "    <tr>\n",
       "      <td>8</td>\n",
       "      <td>EXPERIENCE\\n\\nEDUCATION\\n\\nSKILLS\\n\\nKattie Pouros\\n\\n1243 Christy Rue, Philadelphia, PA # Phone: +1 (555) 760 7462\\n\\nSENIOR CLINICAL TRIALS MANAGER\\nBoston, MA\\n12/2014 — present\\n‘© Assists in ...</td>\n",
       "    </tr>\n",
       "    <tr>\n",
       "      <td>9</td>\n",
       "      <td>If you are highly analytical, enjoy working on teams, and have a strong intellectual curiosity to learn and apply new modeling methods to solve customer problems, the Data Science team at Porch j...</td>\n",
       "    </tr>\n",
       "    <tr>\n",
       "      <td>10</td>\n",
       "      <td>And with over 25 offices nationwide, the firm is growing faster than ever and is hiring for a talented Senior Civil Project Engineer   Project Manager Responsibilities and Duties  Designs and dev...</td>\n",
       "    </tr>\n",
       "  </tbody>\n",
       "</table>\n",
       "</div>"
      ],
      "text/plain": [
       "                                                                                                                                                                                                description\n",
       "0   ROB\\nJOHNS,\\nPH.D\\n\\nDATA SCIENTIST\\n& Robjohns989@gmail.com\\n& +1989.859.6960\\n\\n9 Seattle, WA\\n\\nin linkedin.com/in/RWJohns/\\n© RWJohns\\n\\nAn experienced data-analyst\\nwith a background in utili...\n",
       "1   JEREMY LEHNER\\n\\nSUMMARY\\n\\nDATA SCIENTIST | DATA ANALYST\\n\\nCONTACT\\n\\n \\n\\nData Scientist with a PhD in computational chemistry. Over 5 years experience in\\nstochastic modeling of quantum system...\n",
       "2   DAVID ALEXANDER LOU\\n\\nDATA SCIENTIST | ECONOMIST\\n\\nSUMMARY\\n\\nData Scientist/Economist who is passionate about machine learning, data insight\\n(story telling), and applied statistics/mathematics...\n",
       "3   FATIMA LOUMAINI, CSM CCBA DATA SCIENTIST\\n\\n   \\n\\nfatima.loumaini@gmail.com %& 4253669273 in linkedin.com/in/fatima-loumaini85 © floumaini\\n\\nSUMMARY\\n\\n8+ years of experience in various customer...\n",
       "4   Aisulu Omar\\n\\nLINKS\\n\\nPortfolio\\nhttps://www.aisuluomar.com\\n\\nGithub\\nhttps://github.com/AisOmar\\n\\nData Blog\\nhttps://medium.com/@aisuluomar123\\n\\nLinkedIn\\nlinkedin.com/in/aisulu-omar-6700551...\n",
       "5   EXPERIENCE\\n\\nEDUCATION\\n\\nSKILLS\\n\\nLaisha Conn\\n\\n4858 Schowalter Fords, Detroit, MI # Phot\\n\\n \\n\\nSENIOR CLINICAL TRIALS ASSISTANT\\n\\n‘Los Angeles, CA.\\n09/2016 ~ present\\n‘+ Perform assigned ...\n",
       "6   Robert Smith Phono (22) 456789\\n\\nmall Infocuvikresume,com\\nWebsite : wou, quikrestime, com\\nLinkedin: linkedin.corn/quikresume\\n‘Address; 1737 Marshullle Road, Alabarna\\n\\n \\n\\nClinical Research ...\n",
       "7   REGINA MOSLEY, CCRC\\n\\n \\n\\nAtlanta Georgia « 404-727-1086 « in’\\n\\n \\n\\n3@emory.e\\n\\n \\n\\nlu\\n\\n   \\n\\ninkedin.com/profile/view?id=592879548trk=hp identity-name\\n\\nLead Clinical Research Coordina...\n",
       "8   EXPERIENCE\\n\\nEDUCATION\\n\\nSKILLS\\n\\nKattie Pouros\\n\\n1243 Christy Rue, Philadelphia, PA # Phone: +1 (555) 760 7462\\n\\nSENIOR CLINICAL TRIALS MANAGER\\nBoston, MA\\n12/2014 — present\\n‘© Assists in ...\n",
       "9    If you are highly analytical, enjoy working on teams, and have a strong intellectual curiosity to learn and apply new modeling methods to solve customer problems, the Data Science team at Porch j...\n",
       "10   And with over 25 offices nationwide, the firm is growing faster than ever and is hiring for a talented Senior Civil Project Engineer   Project Manager Responsibilities and Duties  Designs and dev..."
      ]
     },
     "execution_count": 242,
     "metadata": {},
     "output_type": "execute_result"
    }
   ],
   "source": [
    "resumes"
   ]
  },
  {
   "cell_type": "code",
   "execution_count": 243,
   "metadata": {
    "ExecuteTime": {
     "end_time": "2019-11-13T01:17:54.342215Z",
     "start_time": "2019-11-13T01:17:53.612969Z"
    }
   },
   "outputs": [],
   "source": [
    "# Process resumes\n",
    "from src.features.pre_process_text import pre_process\n",
    "from src.features.tokenize_text import tokenize_word, tokenize_noun, tokenize_lemma, tokenize_noun_lemma\n",
    "\n",
    "resumes['clean_skills'] = resumes.description.apply(pre_process) # clean\n",
    "\n",
    "# Tokenize:\n",
    "resumes['noun_skills'] = resumes.clean_skills.apply(tokenize_noun)\n",
    "resumes['word_skills'] = resumes.clean_skills.apply(tokenize_word)\n",
    "resumes['noun_lemma_skills'] = resumes.clean_skills.apply(tokenize_noun_lemma)\n",
    "resumes['lemma_skills'] = resumes.clean_skills.apply(tokenize_lemma)"
   ]
  },
  {
   "cell_type": "markdown",
   "metadata": {},
   "source": [
    "# Recommender"
   ]
  },
  {
   "cell_type": "code",
   "execution_count": 376,
   "metadata": {
    "ExecuteTime": {
     "end_time": "2019-11-13T18:02:23.728064Z",
     "start_time": "2019-11-13T18:01:41.699238Z"
    }
   },
   "outputs": [],
   "source": [
    "# LDA\n",
    "lda_vec_pos, lda_vec_res = docs_to_topics_lda(max_df=0.5,\n",
    "                  min_df = 0.001,\n",
    "                  stop_words = stop_words_1,\n",
    "                  components=20, \n",
    "                  positions=jobs_skills.lemma_skills,\n",
    "                  word_num=5,\n",
    "                  resumes = resumes.lemma_skills)\n",
    "\n",
    "# Cosine similarity\n",
    "score = similarity(lda_vec_pos, lda_vec_res)\n",
    "\n",
    "# Return 5 top positions\n",
    "# top_pos = recommender(score.Resume1, 10)\n",
    "# top_pos_n = recommender(score.Resume6, 10)\n",
    "# top_pos, top_pos_n"
   ]
  },
  {
   "cell_type": "code",
   "execution_count": 377,
   "metadata": {
    "ExecuteTime": {
     "end_time": "2019-11-13T18:02:24.265883Z",
     "start_time": "2019-11-13T18:02:23.729819Z"
    }
   },
   "outputs": [
    {
     "data": {
      "text/plain": [
       "<matplotlib.axes._subplots.AxesSubplot at 0x16c42dc18>"
      ]
     },
     "execution_count": 377,
     "metadata": {},
     "output_type": "execute_result"
    },
    {
     "data": {
      "image/png": "[encoded data removed]",
      "text/plain": [
       "<Figure size 432x288 with 1 Axes>"
      ]
     },
     "metadata": {
      "needs_background": "light"
     },
     "output_type": "display_data"
    }
   ],
   "source": [
    "score.Resume1.plot()"
   ]
  },
  {
   "cell_type": "code",
   "execution_count": 383,
   "metadata": {
    "ExecuteTime": {
     "end_time": "2019-11-13T18:04:01.099230Z",
     "start_time": "2019-11-13T18:04:00.652326Z"
    }
   },
   "outputs": [
    {
     "data": {
      "text/plain": [
       "<matplotlib.axes._subplots.AxesSubplot at 0x167be6588>"
      ]
     },
     "execution_count": 383,
     "metadata": {},
     "output_type": "execute_result"
    },
    {
     "data": {
      "image/png": "[encoded data removed]",
      "text/plain": [
       "<Figure size 432x288 with 1 Axes>"
      ]
     },
     "metadata": {
      "needs_background": "light"
     },
     "output_type": "display_data"
    }
   ],
   "source": [
    "score.Resume2.plot()"
   ]
  },
  {
   "cell_type": "code",
   "execution_count": 378,
   "metadata": {
    "ExecuteTime": {
     "end_time": "2019-11-13T18:02:24.805362Z",
     "start_time": "2019-11-13T18:02:24.269029Z"
    }
   },
   "outputs": [
    {
     "data": {
      "text/plain": [
       "<matplotlib.axes._subplots.AxesSubplot at 0x1671122b0>"
      ]
     },
     "execution_count": 378,
     "metadata": {},
     "output_type": "execute_result"
    },
    {
     "data": {
      "image/png": "[encoded data removed]",
      "text/plain": [
       "<Figure size 432x288 with 1 Axes>"
      ]
     },
     "metadata": {
      "needs_background": "light"
     },
     "output_type": "display_data"
    }
   ],
   "source": [
    "score.Resume3.plot()"
   ]
  },
  {
   "cell_type": "code",
   "execution_count": 384,
   "metadata": {
    "ExecuteTime": {
     "end_time": "2019-11-13T18:04:22.541243Z",
     "start_time": "2019-11-13T18:04:22.085984Z"
    }
   },
   "outputs": [
    {
     "data": {
      "text/plain": [
       "<matplotlib.axes._subplots.AxesSubplot at 0x1598ec7b8>"
      ]
     },
     "execution_count": 384,
     "metadata": {},
     "output_type": "execute_result"
    },
    {
     "data": {
      "image/png": "[encoded data removed]",
      "text/plain": [
       "<Figure size 432x288 with 1 Axes>"
      ]
     },
     "metadata": {
      "needs_background": "light"
     },
     "output_type": "display_data"
    }
   ],
   "source": [
    "score.Resume4.plot()"
   ]
  },
  {
   "cell_type": "code",
   "execution_count": 379,
   "metadata": {
    "ExecuteTime": {
     "end_time": "2019-11-13T18:02:25.318507Z",
     "start_time": "2019-11-13T18:02:24.808845Z"
    }
   },
   "outputs": [
    {
     "data": {
      "text/plain": [
       "<matplotlib.axes._subplots.AxesSubplot at 0x16c33d748>"
      ]
     },
     "execution_count": 379,
     "metadata": {},
     "output_type": "execute_result"
    },
    {
     "data": {
      "image/png": "[encoded data removed]",
      "text/plain": [
       "<Figure size 432x288 with 1 Axes>"
      ]
     },
     "metadata": {
      "needs_background": "light"
     },
     "output_type": "display_data"
    }
   ],
   "source": [
    "score.Resume6.plot()"
   ]
  },
  {
   "cell_type": "code",
   "execution_count": 387,
   "metadata": {
    "ExecuteTime": {
     "end_time": "2019-11-13T18:23:11.467795Z",
     "start_time": "2019-11-13T18:23:11.024748Z"
    }
   },
   "outputs": [
    {
     "data": {
      "text/plain": [
       "<matplotlib.axes._subplots.AxesSubplot at 0x159721908>"
      ]
     },
     "execution_count": 387,
     "metadata": {},
     "output_type": "execute_result"
    },
    {
     "data": {
      "image/png": "[encoded data removed]",
      "text/plain": [
       "<Figure size 432x288 with 1 Axes>"
      ]
     },
     "metadata": {
      "needs_background": "light"
     },
     "output_type": "display_data"
    }
   ],
   "source": [
    "score.Resume7.plot()"
   ]
  },
  {
   "cell_type": "code",
   "execution_count": 380,
   "metadata": {
    "ExecuteTime": {
     "end_time": "2019-11-13T18:02:25.762566Z",
     "start_time": "2019-11-13T18:02:25.321089Z"
    }
   },
   "outputs": [
    {
     "data": {
      "text/plain": [
       "<matplotlib.axes._subplots.AxesSubplot at 0x16d03fb70>"
      ]
     },
     "execution_count": 380,
     "metadata": {},
     "output_type": "execute_result"
    },
    {
     "data": {
      "image/png": "[encoded data removed]",
      "text/plain": [
       "<Figure size 432x288 with 1 Axes>"
      ]
     },
     "metadata": {
      "needs_background": "light"
     },
     "output_type": "display_data"
    }
   ],
   "source": [
    "score.Resume8.plot()"
   ]
  },
  {
   "cell_type": "code",
   "execution_count": 386,
   "metadata": {
    "ExecuteTime": {
     "end_time": "2019-11-13T18:22:57.310641Z",
     "start_time": "2019-11-13T18:22:56.878807Z"
    }
   },
   "outputs": [
    {
     "data": {
      "text/plain": [
       "<matplotlib.axes._subplots.AxesSubplot at 0x12b574c88>"
      ]
     },
     "execution_count": 386,
     "metadata": {},
     "output_type": "execute_result"
    },
    {
     "data": {
      "image/png": "[encoded data removed]",
      "text/plain": [
       "<Figure size 432x288 with 1 Axes>"
      ]
     },
     "metadata": {
      "needs_background": "light"
     },
     "output_type": "display_data"
    }
   ],
   "source": [
    "score.Resume9.plot()"
   ]
  },
  {
   "cell_type": "code",
   "execution_count": 382,
   "metadata": {
    "ExecuteTime": {
     "end_time": "2019-11-13T18:03:03.639008Z",
     "start_time": "2019-11-13T18:03:03.067923Z"
    }
   },
   "outputs": [
    {
     "data": {
      "text/plain": [
       "<matplotlib.axes._subplots.AxesSubplot at 0x15954a5f8>"
      ]
     },
     "execution_count": 382,
     "metadata": {},
     "output_type": "execute_result"
    },
    {
     "data": {
      "image/png": "[encoded data removed]",
      "text/plain": [
       "<Figure size 432x288 with 1 Axes>"
      ]
     },
     "metadata": {
      "needs_background": "light"
     },
     "output_type": "display_data"
    }
   ],
   "source": [
    "score.Resume10.plot()"
   ]
  },
  {
   "cell_type": "code",
   "execution_count": 385,
   "metadata": {
    "ExecuteTime": {
     "end_time": "2019-11-13T18:22:27.872168Z",
     "start_time": "2019-11-13T18:22:27.533916Z"
    }
   },
   "outputs": [
    {
     "data": {
      "text/plain": [
       "<matplotlib.axes._subplots.AxesSubplot at 0x1671295f8>"
      ]
     },
     "execution_count": 385,
     "metadata": {},
     "output_type": "execute_result"
    },
    {
     "data": {
      "image/png": "[encoded data removed]",
      "text/plain": [
       "<Figure size 432x288 with 1 Axes>"
      ]
     },
     "metadata": {
      "needs_background": "light"
     },
     "output_type": "display_data"
    }
   ],
   "source": [
    "score.Resume11.plot()"
   ]
  },
  {
   "cell_type": "code",
   "execution_count": 359,
   "metadata": {
    "ExecuteTime": {
     "end_time": "2019-11-13T17:47:27.318480Z",
     "start_time": "2019-11-13T17:47:27.260741Z"
    }
   },
   "outputs": [
    {
     "data": {
      "text/plain": [
       "'    offices nationwide firm growing faster hiring talented senior civil project engineer    project manager responsibilities duties   designs develops plans drawings primarily commercial residential industrial land development projects include development preliminary layout final drawings roadways sanitary sewer lines utility design stormdrain storm water retention detention facilities waterlines mass grading drainage   organizes conducts engineering investigations planning work defined scope   researches feasibility alternative design approaches site conditions regulatory agency specifications   contributes development specifications permit applications writes miscellaneous reports   participates quality control checks maintaining quality standards work produced checking computations reviewing designs drawings performed   qualifications skills   b   s    m   s    civil engineering equivalent degree minimum   years experience civil engineering land    site development public works    infrastructure projects strong proficiency civil d autocad software professional engineer   pe   license highly preferred required benefits   great firm work   benefits best industry    medical dental vision k savings plan pto best progressive technologically driven fast moving firm    new thoughts ideas company business success encouraged   plus friday   keywords   civil engineering electrical engineering structural mechanical mep plumbing architect architectural site development land development grading drainage storwmwater swppp paving striping traffic control transportation signal signage railway highway design roadway water underground utility hydrology hydraulics earthwork utility design water resources wastewater revit autocad civil d microstation inroads arc gis surveying topos geotechnical geotech gis structural asce eit pe te survey surveying topos boundaries alta maps legal description plats appraisal maps records survey topography photogrammetry boundary surveys construction staking subdivision mapping total station pls rpls lsit party chief hvac plumbing fire protection systems hydronic piping systems central plants building automation medical gas asce eit job type   time salary        '"
      ]
     },
     "execution_count": 359,
     "metadata": {},
     "output_type": "execute_result"
    }
   ],
   "source": [
    "resumes.description[9]\n",
    "resumes.word_skills[10]\n",
    "# resumes.columns"
   ]
  },
  {
   "cell_type": "code",
   "execution_count": null,
   "metadata": {},
   "outputs": [],
   "source": [
    "# Remove duplicates and data rows that were inserted by indeed\n",
    "# jobs_wa.drop_duplicates(inplace=True)\n",
    "# a = jobs_wa.shape\n",
    "jobs_skills.drop(jobs_skills.loc[jobs_skills.company_name == 'Seen by Indeed'].index, inplace=True)\n",
    "# jobs_wa.reset_index(drop=True, inplace=True)\n",
    "# b = jobs_wa.shape\n",
    "# print(a, b)"
   ]
  },
  {
   "cell_type": "code",
   "execution_count": 338,
   "metadata": {
    "ExecuteTime": {
     "end_time": "2019-11-13T02:17:43.985473Z",
     "start_time": "2019-11-13T02:17:43.916559Z"
    }
   },
   "outputs": [
    {
     "data": {
      "text/plain": [
       "(0, 20)"
      ]
     },
     "execution_count": 338,
     "metadata": {},
     "output_type": "execute_result"
    }
   ],
   "source": [
    "jobs_skills.loc[jobs_skills.company_name == 'Seen by Indeed'].shape"
   ]
  },
  {
   "cell_type": "code",
   "execution_count": 301,
   "metadata": {
    "ExecuteTime": {
     "end_time": "2019-11-13T01:55:34.131656Z",
     "start_time": "2019-11-13T01:55:34.069691Z"
    }
   },
   "outputs": [
    {
     "data": {
      "text/plain": [
       "Job1531    0.01\n",
       "Job672     0.01\n",
       "Job1394    0.01\n",
       "Job2378    0.01\n",
       "Job4390    0.01\n",
       "           ... \n",
       "Job3466    0.98\n",
       "Job321     0.98\n",
       "Job4698    0.98\n",
       "Job752     0.99\n",
       "Job1186    0.99\n",
       "Name: Resume1, Length: 5058, dtype: float64"
      ]
     },
     "execution_count": 301,
     "metadata": {},
     "output_type": "execute_result"
    }
   ],
   "source": [
    "a"
   ]
  },
  {
   "cell_type": "code",
   "execution_count": 304,
   "metadata": {
    "ExecuteTime": {
     "end_time": "2019-11-13T01:56:05.630475Z",
     "start_time": "2019-11-13T01:56:05.568365Z"
    }
   },
   "outputs": [
    {
     "data": {
      "text/plain": [
       "'  candidate highly motivated detail orient strong customer service skill   will provide operational assistance organization maintenance datum ams software fulfill request datum internal external customer software include house application assist design delivery improvement house software application develop interpret technical documentation training end user procedure develop deliver training end user member use type software web application efficiently effectively support business objective collaborate internal stakeholder analyze map document business process enhance usability system assume number different role assign work large project team include limit business analyst project manager participant maintain organizational datum dictionary recommend annual update data management strategy communicate system change enhancement modification business requirement   verbally write documentation   project manager sponsor stakeholder issue solution understand develop maintain training material user guide organization ams provide hand customer support system trouble shoot include support external customer phone email communication complete duty assign self initiative supervisor approval bring team bachelor degree emphasis computer science business administration relate field    experience substitute year year academic achievement year related work experience strong understanding database structure theory principle knowledge troubleshoot principle methodology issue resolution technique knowledge applicable datum privacy practice law include payment card industry datum security standard   pci   health insurance portability accountability act   hipaa ability create monitor systematic consistent requirement specification technical user friendly language ability pay close attention detail include datum entry proficient microsoft office professional ability learn use wide variety proprietary software ability model organization high standard quality customer service internal external customer ability develop interpret technical documentation training end user procedure ability establish credibility manage confidential time sensitive material ability perform query yield desire result ability juggle compete demand long term project emergent need ability organize work independently multiple task project complete assignment specify deadline work pressure  '"
      ]
     },
     "execution_count": 304,
     "metadata": {},
     "output_type": "execute_result"
    }
   ],
   "source": [
    "a=score.Resume1.sort_values(ascending=True)\n",
    "jobs_skills_d.lemma_skills[2378]"
   ]
  },
  {
   "cell_type": "code",
   "execution_count": null,
   "metadata": {},
   "outputs": [],
   "source": []
  },
  {
   "cell_type": "code",
   "execution_count": 268,
   "metadata": {
    "ExecuteTime": {
     "end_time": "2019-11-13T01:32:35.418605Z",
     "start_time": "2019-11-13T01:32:35.360738Z"
    }
   },
   "outputs": [
    {
     "data": {
      "text/plain": [
       "'  highly analytical enjoy work team strong intellectual curiosity learn apply new modeling method solve customer problem datum science team porch place right candidate strong datum science technical skill demonstrate ability lead team solve customer business problem    extensive experience datum mining statistical modeling machine learning technique interest lead technical team hand capacity   build expand broad array datum science model gbt propensity score nlp text classification regression bayesian inference etc   provide hand technical guidance datum scientist analyst encourage technical growth ensure proper application standard methodology   drive rd new model evaluate business opportunity   prioritize work team support broad business initiative   establish roadmap improve scalability datum pipeline model infrastructure   collaborate product team deliver solution enhance customer experience improve efficiency user acquisition   manage team datum scientist potentially machine learn engineer provide technical direction mentorship   highly technical hand developer effective people manager   responsible performance datum science product keen understanding lever provide increase value   communicate deeply technical result broad audience   bring ph   d    master degree statistic econometrics physics mathematic similar quantitative field    year work experience datum analysis apply statistic machine learning econometric   graduate level command statistic probability theory   experience lead technical project team desire technical people leader   strong technical background experience work scalable datum system spark   proficiency sql scripting language   r python etc    hand experience broad range modeling technique   track record focus right result deliver critical goal   show experience work scrum team define build ship product   prove ability fast entrepreneurial environment   porch launch september   online home improvement network connect homeowner qualified professional porch grow industry lead partner home      active professional u   s    porch partner large retailer like walmart lowes pottery barn provide home service fulfillment customer direct consumer access   different home service offering porch   com    focus assist customer stage home journey   include move installation assembly repair ongoing maintenance   year company facilitate   million home relate project generate   billion revenue small business owner sole proprietor specialty area plumb roof electrical work carpentry  '"
      ]
     },
     "execution_count": 268,
     "metadata": {},
     "output_type": "execute_result"
    }
   ],
   "source": [
    "jobs_skills_d.lemma_skills[1906]"
   ]
  },
  {
   "cell_type": "code",
   "execution_count": null,
   "metadata": {
    "ExecuteTime": {
     "end_time": "2019-11-13T01:07:47.359375Z",
     "start_time": "2019-11-13T01:07:41.652357Z"
    }
   },
   "outputs": [],
   "source": [
    "## NMF\n",
    "nmf_vec_pos, nmf_vec_res = docs_to_topics_nmf(max_df=0.99,\n",
    "                  min_df = 0.001,\n",
    "                  stop_words = stop_words_1,\n",
    "                  components=20, \n",
    "                  positions=jobs_skills_d.lemma_skills,\n",
    "                  word_num=5,\n",
    "                  resumes = resumes.lemma_skills)\n",
    "\n",
    "# Cosine similarity\n",
    "score = similarity(nmf_vec_pos, nmf_vec_res)\n",
    "\n",
    "# Return 5 top positions\n",
    "top_pos = recommender(score.Resume1, 10)\n",
    "top_pos_n = recommender(score.Resume6, 10)\n",
    "top_pos, top_pos_n\n"
   ]
  },
  {
   "cell_type": "code",
   "execution_count": 226,
   "metadata": {
    "ExecuteTime": {
     "end_time": "2019-11-13T01:07:18.895658Z",
     "start_time": "2019-11-13T01:07:16.104948Z"
    }
   },
   "outputs": [
    {
     "data": {
      "text/plain": [
       "(  Position ID  Similarity score\n",
       " 0     Job1480              0.98\n",
       " 1     Job3977              0.98\n",
       " 2     Job3092              0.98\n",
       " 3     Job2038              0.98\n",
       " 4     Job2450              0.97,   Position ID  Similarity score\n",
       " 0     Job1432              0.94\n",
       " 1     Job1724              0.93\n",
       " 2     Job2321              0.93\n",
       " 3     Job3737              0.93\n",
       " 4     Job4627              0.93)"
      ]
     },
     "execution_count": 226,
     "metadata": {},
     "output_type": "execute_result"
    }
   ],
   "source": [
    "# LSA\n",
    "lsa_vec_pos, lsa_vec_res = docs_to_topics_lsa(max_df=0.99,\n",
    "                  min_df = 0.001,\n",
    "                  stop_words = stop_words_1,\n",
    "                  components=20, \n",
    "                  positions=jobs_skills_d.lemma_skills,\n",
    "                  word_num=5,\n",
    "                  resumes = resumes.lemma_skills)\n",
    "\n",
    "# Cosine similarity\n",
    "score = similarity(lsa_vec_pos, lsa_vec_res)\n",
    "\n",
    "# Return 5 top positions\n",
    "top_pos = recommender(score.Resume1, 5)\n",
    "top_pos_n = recommender(score.Resume6, 5)\n",
    "top_pos, top_pos_n"
   ]
  },
  {
   "cell_type": "code",
   "execution_count": 178,
   "metadata": {
    "ExecuteTime": {
     "end_time": "2019-11-13T00:40:58.740655Z",
     "start_time": "2019-11-13T00:40:58.667460Z"
    },
    "collapsed": true
   },
   "outputs": [
    {
     "data": {
      "text/html": [
       "<div>\n",
       "<style scoped>\n",
       "    .dataframe tbody tr th:only-of-type {\n",
       "        vertical-align: middle;\n",
       "    }\n",
       "\n",
       "    .dataframe tbody tr th {\n",
       "        vertical-align: top;\n",
       "    }\n",
       "\n",
       "    .dataframe thead th {\n",
       "        text-align: right;\n",
       "    }\n",
       "</style>\n",
       "<table border=\"1\" class=\"dataframe\">\n",
       "  <thead>\n",
       "    <tr style=\"text-align: right;\">\n",
       "      <th></th>\n",
       "      <th>Resume1</th>\n",
       "      <th>Resume2</th>\n",
       "      <th>Resume3</th>\n",
       "      <th>Resume4</th>\n",
       "      <th>Resume5</th>\n",
       "      <th>Resume6</th>\n",
       "      <th>Resume7</th>\n",
       "      <th>Resume8</th>\n",
       "    </tr>\n",
       "  </thead>\n",
       "  <tbody>\n",
       "    <tr>\n",
       "      <td>Job1</td>\n",
       "      <td>0.22</td>\n",
       "      <td>0.20</td>\n",
       "      <td>0.19</td>\n",
       "      <td>0.14</td>\n",
       "      <td>0.18</td>\n",
       "      <td>0.10</td>\n",
       "      <td>0.06</td>\n",
       "      <td>0.09</td>\n",
       "    </tr>\n",
       "    <tr>\n",
       "      <td>Job2</td>\n",
       "      <td>0.31</td>\n",
       "      <td>0.31</td>\n",
       "      <td>0.44</td>\n",
       "      <td>0.23</td>\n",
       "      <td>0.42</td>\n",
       "      <td>0.25</td>\n",
       "      <td>1.00</td>\n",
       "      <td>0.19</td>\n",
       "    </tr>\n",
       "    <tr>\n",
       "      <td>Job3</td>\n",
       "      <td>0.04</td>\n",
       "      <td>0.01</td>\n",
       "      <td>0.05</td>\n",
       "      <td>0.04</td>\n",
       "      <td>0.02</td>\n",
       "      <td>0.25</td>\n",
       "      <td>0.02</td>\n",
       "      <td>0.15</td>\n",
       "    </tr>\n",
       "    <tr>\n",
       "      <td>Job4</td>\n",
       "      <td>0.04</td>\n",
       "      <td>0.01</td>\n",
       "      <td>0.05</td>\n",
       "      <td>0.04</td>\n",
       "      <td>0.02</td>\n",
       "      <td>0.25</td>\n",
       "      <td>0.02</td>\n",
       "      <td>0.15</td>\n",
       "    </tr>\n",
       "    <tr>\n",
       "      <td>Job5</td>\n",
       "      <td>0.23</td>\n",
       "      <td>0.17</td>\n",
       "      <td>0.20</td>\n",
       "      <td>0.39</td>\n",
       "      <td>0.19</td>\n",
       "      <td>0.45</td>\n",
       "      <td>0.07</td>\n",
       "      <td>0.25</td>\n",
       "    </tr>\n",
       "    <tr>\n",
       "      <td>...</td>\n",
       "      <td>...</td>\n",
       "      <td>...</td>\n",
       "      <td>...</td>\n",
       "      <td>...</td>\n",
       "      <td>...</td>\n",
       "      <td>...</td>\n",
       "      <td>...</td>\n",
       "      <td>...</td>\n",
       "    </tr>\n",
       "    <tr>\n",
       "      <td>Job5054</td>\n",
       "      <td>0.04</td>\n",
       "      <td>0.01</td>\n",
       "      <td>0.05</td>\n",
       "      <td>0.04</td>\n",
       "      <td>0.02</td>\n",
       "      <td>0.25</td>\n",
       "      <td>0.02</td>\n",
       "      <td>0.15</td>\n",
       "    </tr>\n",
       "    <tr>\n",
       "      <td>Job5055</td>\n",
       "      <td>0.16</td>\n",
       "      <td>0.09</td>\n",
       "      <td>0.18</td>\n",
       "      <td>0.19</td>\n",
       "      <td>0.16</td>\n",
       "      <td>0.22</td>\n",
       "      <td>0.04</td>\n",
       "      <td>0.29</td>\n",
       "    </tr>\n",
       "    <tr>\n",
       "      <td>Job5056</td>\n",
       "      <td>0.10</td>\n",
       "      <td>0.08</td>\n",
       "      <td>0.09</td>\n",
       "      <td>0.16</td>\n",
       "      <td>0.21</td>\n",
       "      <td>0.10</td>\n",
       "      <td>0.03</td>\n",
       "      <td>0.05</td>\n",
       "    </tr>\n",
       "    <tr>\n",
       "      <td>Job5057</td>\n",
       "      <td>0.31</td>\n",
       "      <td>0.20</td>\n",
       "      <td>0.31</td>\n",
       "      <td>0.23</td>\n",
       "      <td>0.27</td>\n",
       "      <td>0.13</td>\n",
       "      <td>0.10</td>\n",
       "      <td>0.14</td>\n",
       "    </tr>\n",
       "    <tr>\n",
       "      <td>Job5058</td>\n",
       "      <td>0.16</td>\n",
       "      <td>0.11</td>\n",
       "      <td>0.10</td>\n",
       "      <td>0.18</td>\n",
       "      <td>0.17</td>\n",
       "      <td>0.27</td>\n",
       "      <td>0.05</td>\n",
       "      <td>0.17</td>\n",
       "    </tr>\n",
       "  </tbody>\n",
       "</table>\n",
       "<p>5058 rows × 8 columns</p>\n",
       "</div>"
      ],
      "text/plain": [
       "         Resume1  Resume2  Resume3  Resume4  Resume5  Resume6  Resume7  \\\n",
       "Job1        0.22     0.20     0.19     0.14     0.18     0.10     0.06   \n",
       "Job2        0.31     0.31     0.44     0.23     0.42     0.25     1.00   \n",
       "Job3        0.04     0.01     0.05     0.04     0.02     0.25     0.02   \n",
       "Job4        0.04     0.01     0.05     0.04     0.02     0.25     0.02   \n",
       "Job5        0.23     0.17     0.20     0.39     0.19     0.45     0.07   \n",
       "...          ...      ...      ...      ...      ...      ...      ...   \n",
       "Job5054     0.04     0.01     0.05     0.04     0.02     0.25     0.02   \n",
       "Job5055     0.16     0.09     0.18     0.19     0.16     0.22     0.04   \n",
       "Job5056     0.10     0.08     0.09     0.16     0.21     0.10     0.03   \n",
       "Job5057     0.31     0.20     0.31     0.23     0.27     0.13     0.10   \n",
       "Job5058     0.16     0.11     0.10     0.18     0.17     0.27     0.05   \n",
       "\n",
       "         Resume8  \n",
       "Job1        0.09  \n",
       "Job2        0.19  \n",
       "Job3        0.15  \n",
       "Job4        0.15  \n",
       "Job5        0.25  \n",
       "...          ...  \n",
       "Job5054     0.15  \n",
       "Job5055     0.29  \n",
       "Job5056     0.05  \n",
       "Job5057     0.14  \n",
       "Job5058     0.17  \n",
       "\n",
       "[5058 rows x 8 columns]"
      ]
     },
     "execution_count": 178,
     "metadata": {},
     "output_type": "execute_result"
    }
   ],
   "source": [
    "score"
   ]
  },
  {
   "cell_type": "code",
   "execution_count": 185,
   "metadata": {
    "ExecuteTime": {
     "end_time": "2019-11-13T00:43:15.051707Z",
     "start_time": "2019-11-13T00:43:14.963370Z"
    }
   },
   "outputs": [
    {
     "data": {
      "text/plain": [
       "\" If you are highly analytical, enjoy working on teams, and have a strong intellectual curiosity to learn and apply new modeling methods to solve customer problems, the Data Science team at Porch just might be the place for you The right candidate has strong data science technical skills and demonstrated an ability to lead a team to solve customer and business problems.  You should have extensive experience with data mining, statistical modeling, and machine learning techniques and an interest in leading a technical team in a hands-on capacity. What You Will Do Build or expand upon a broad array of data science models; GBT, propensity scoring, NLP text classification, regression, Bayesian inference, etc. Provide hands-on technical guidance to data scientists and analysts to encourage technical growth and ensure proper application of standard methodologies. Drive R&D on new models and evaluate business opportunities. Prioritize work across your team to support broader business initiatives. Establish roadmap to improve the scalability of data pipelines and modeling infrastructure. Collaborate with product teams to deliver solutions that enhance the customer experience and improve the efficiency of user acquisition. Manage a team of data scientists, potentially machine learning engineers as well, providing technical direction and mentorship. Be a highly technical, hands-on developer and an effective people manager. Responsible for the performance of data science products with a keen understanding of the levers to provide increased value. Communicate deeply technical results to a broad audience. What You Bring Ph. D.  or Master's degree in statistics, econometrics, physics, mathematics, or a similar quantitative field. 6+ years of work experience in data analysis, applied statistics, machine learning, or econometrics. Graduate-level command of statistics and probability theory. Experience leading technical projects and or teams and a desire to be both a technical and people leader. Strong technical background, experience working with scalable data systems such as Spark. Proficiency with SQL and at least one scripting language  R, Python, etc . Hands-on experience with a broad range of modeling techniques. Track record of focusing on the right results and delivering against critical goals. Shown experience working in Scrum teams to define, build, and ship products. Proven ability to move fast in an entrepreneurial environment. About Porch Launched September, 2013, as an online home improvement network connecting homeowners with qualified professionals, Porch has grown into the industry leading partner for the home.  With more than 250,000 active professionals across the U. S. , Porch partners with large retailers like Walmart, Lowe’s, and Pottery Barn to provide home services fulfillment for their customers, as well as direct-to-consumer access to more than 160 different home services offerings through Porch. com.  Focused on assisting customers at every stage of the “home journey” – including moving in, installations, assembly, repairs and ongoing maintenance – last year alone, the company facilitated over 2 million home-related projects, generating almost $1 billion in revenue for small business owners and sole proprietors in specialty areas such as plumbing, roofing, electrical work carpentry, and more. \""
      ]
     },
     "execution_count": 185,
     "metadata": {},
     "output_type": "execute_result"
    }
   ],
   "source": [
    "jobs_skills_d.skills[4627]"
   ]
  },
  {
   "cell_type": "code",
   "execution_count": 176,
   "metadata": {
    "ExecuteTime": {
     "end_time": "2019-11-13T00:39:34.551110Z",
     "start_time": "2019-11-13T00:39:34.490991Z"
    }
   },
   "outputs": [
    {
     "data": {
      "text/plain": [
       "'EXPERIENCE\\n\\nEDUCATION\\n\\nSKILLS\\n\\nLaisha Conn\\n\\n4858 Schowalter Fords, Detroit, MI # Phot\\n\\n \\n\\nSENIOR CLINICAL TRIALS ASSISTANT\\n\\n‘Los Angeles, CA.\\n09/2016 ~ present\\n‘+ Perform assigned administrative tasks to support team members with clinical trial execution\\n‘© Assisting in the provision of professional and patient materials,\\n‘© Assist in the preparation and follow-up of company-sponsored site quality audits and regulatory\\nauthority inspections\\n‘* With increasing independence, support data cleaning activities, performing data listings review, and query\\ngeneration, etc\\n‘© Work independently and within a team environment to meet study objectives and timelines\\n+ Adhere to CFR, GCP/ICH, company policies, Clinical Operations and project specific quality documents\\n(c.g. SOPs, work practices, training guides)\\n‘* May perform site, SMO regulatory monitoring\\n\\nCLINICAL TRIALS ASSISTANT, DCRI\\n\\nNew York, NY\\n06/2012 — 06/2016\\n\\n‘© Assist with development and implementation of project-specific forms and work instructions as directed\\n\\nAssist with developing, disseminating, and filing enrollment posters and newsletters\\n\\nShare best practices with peers and make recommendations to trial supervisor for process improvements\\n\\nProvide administrative assistance for designated project meetings as directed by trial supervisor\\n\\nPerform initial review of in-coming documents for completeness, accuracy and consistency with\\n\\nestablished guidelines\\n\\n+ Provide data entry guidance and training on trial-specific information management systems to other team\\nmembers\\n\\n‘© Assist with integration of new team members\\n\\n‘CLINICAL TRIALS ASSISTANT\\nDallas, TX\\n03/2009 — 04/2012\\n‘© Meeting scheduling and logistics (including call/web conference activation, resolution of technical issues)\\n+ Acting as a central contact for the clinical team for designated project communications, correspondence\\nand associated documentation\\n+ Tracking and management of Case Report Forms (CRFs), queries and clinical data flow\\n‘© Maintaining study timelines in MS Project\\n‘© Supporting CRAs and RSU with preparation, handling and distribution of Clinical Trial Supplies and\\nmaintenance of tracking information\\n+ Copying, scanning,\\n+ Assist with review of clinical trial related invoices\\n\\n \\n\\nMICHIGAN STATE UNIVERSITY\\nBachelor’s Degree in Life Science\\n\\n+ Strong attention to detail\\n‘© Good written and verbal communication skills in Finnish language including good command of English\\nlanguage\\n‘+ Attention to detail and the ability to prioritize\\n‘© Good written and verbal communication skills including good command of English language\\n+ Very good written and verbal communication skills in Dutch and in French, including good command of\\nEnglish language\\nGood written and verbal communication skills including good command of English and Dutch language\\nAbility to establish and maintain effective working relationships with co-workers, managers and clients\\nAbility to establish and maintain effective working relationships with coworkers, managers and clients\\nStrong communication skills\\nPolished and professional demeanor'"
      ]
     },
     "execution_count": 176,
     "metadata": {},
     "output_type": "execute_result"
    }
   ],
   "source": [
    "resumes.description[5]"
   ]
  },
  {
   "cell_type": "code",
   "execution_count": 134,
   "metadata": {
    "ExecuteTime": {
     "end_time": "2019-11-13T00:14:42.444227Z",
     "start_time": "2019-11-13T00:14:42.374154Z"
    }
   },
   "outputs": [
    {
     "data": {
      "text/html": [
       "<div>\n",
       "<style scoped>\n",
       "    .dataframe tbody tr th:only-of-type {\n",
       "        vertical-align: middle;\n",
       "    }\n",
       "\n",
       "    .dataframe tbody tr th {\n",
       "        vertical-align: top;\n",
       "    }\n",
       "\n",
       "    .dataframe thead th {\n",
       "        text-align: right;\n",
       "    }\n",
       "</style>\n",
       "<table border=\"1\" class=\"dataframe\">\n",
       "  <thead>\n",
       "    <tr style=\"text-align: right;\">\n",
       "      <th></th>\n",
       "      <th>Position ID</th>\n",
       "      <th>Similarity score</th>\n",
       "    </tr>\n",
       "  </thead>\n",
       "  <tbody>\n",
       "    <tr>\n",
       "      <td>0</td>\n",
       "      <td>Job933</td>\n",
       "      <td>0.93</td>\n",
       "    </tr>\n",
       "    <tr>\n",
       "      <td>1</td>\n",
       "      <td>Job5032</td>\n",
       "      <td>0.92</td>\n",
       "    </tr>\n",
       "    <tr>\n",
       "      <td>2</td>\n",
       "      <td>Job3583</td>\n",
       "      <td>0.92</td>\n",
       "    </tr>\n",
       "    <tr>\n",
       "      <td>3</td>\n",
       "      <td>Job4594</td>\n",
       "      <td>0.92</td>\n",
       "    </tr>\n",
       "    <tr>\n",
       "      <td>4</td>\n",
       "      <td>Job4912</td>\n",
       "      <td>0.92</td>\n",
       "    </tr>\n",
       "  </tbody>\n",
       "</table>\n",
       "</div>"
      ],
      "text/plain": [
       "  Position ID  Similarity score\n",
       "0      Job933              0.93\n",
       "1     Job5032              0.92\n",
       "2     Job3583              0.92\n",
       "3     Job4594              0.92\n",
       "4     Job4912              0.92"
      ]
     },
     "execution_count": 134,
     "metadata": {},
     "output_type": "execute_result"
    }
   ],
   "source": [
    "top_pos = recommender(score.Resume7, 5)\n",
    "top_pos"
   ]
  },
  {
   "cell_type": "code",
   "execution_count": null,
   "metadata": {},
   "outputs": [],
   "source": []
  },
  {
   "cell_type": "code",
   "execution_count": 102,
   "metadata": {
    "ExecuteTime": {
     "end_time": "2019-11-12T23:38:36.555159Z",
     "start_time": "2019-11-12T23:38:35.395024Z"
    }
   },
   "outputs": [
    {
     "data": {
      "text/html": [
       "<div>\n",
       "<style scoped>\n",
       "    .dataframe tbody tr th:only-of-type {\n",
       "        vertical-align: middle;\n",
       "    }\n",
       "\n",
       "    .dataframe tbody tr th {\n",
       "        vertical-align: top;\n",
       "    }\n",
       "\n",
       "    .dataframe thead th {\n",
       "        text-align: right;\n",
       "    }\n",
       "</style>\n",
       "<table border=\"1\" class=\"dataframe\">\n",
       "  <thead>\n",
       "    <tr style=\"text-align: right;\">\n",
       "      <th></th>\n",
       "      <th>Position ID</th>\n",
       "      <th>Similarity score</th>\n",
       "    </tr>\n",
       "  </thead>\n",
       "  <tbody>\n",
       "    <tr>\n",
       "      <td>0</td>\n",
       "      <td>Job2529</td>\n",
       "      <td>1.0</td>\n",
       "    </tr>\n",
       "    <tr>\n",
       "      <td>1</td>\n",
       "      <td>Job4008</td>\n",
       "      <td>1.0</td>\n",
       "    </tr>\n",
       "    <tr>\n",
       "      <td>2</td>\n",
       "      <td>Job854</td>\n",
       "      <td>1.0</td>\n",
       "    </tr>\n",
       "    <tr>\n",
       "      <td>3</td>\n",
       "      <td>Job853</td>\n",
       "      <td>1.0</td>\n",
       "    </tr>\n",
       "    <tr>\n",
       "      <td>4</td>\n",
       "      <td>Job2164</td>\n",
       "      <td>1.0</td>\n",
       "    </tr>\n",
       "  </tbody>\n",
       "</table>\n",
       "</div>"
      ],
      "text/plain": [
       "  Position ID  Similarity score\n",
       "0     Job2529               1.0\n",
       "1     Job4008               1.0\n",
       "2      Job854               1.0\n",
       "3      Job853               1.0\n",
       "4     Job2164               1.0"
      ]
     },
     "execution_count": 102,
     "metadata": {},
     "output_type": "execute_result"
    }
   ],
   "source": [
    "# LSA\n",
    "lsa_vec_pos, lsa_vec_res = docs_to_topics_lsa(max_df=0.5,\n",
    "                  min_df = 0.005,\n",
    "                  stop_words = stop_words_1,\n",
    "                  components=15, \n",
    "                  positions=jobs_skills_d.noun_skills,\n",
    "                  word_num=5,\n",
    "                  resumes = resumes.noun_skills)\n",
    "\n",
    "# Cosine similarity\n",
    "score = similarity(lsa_vec_pos, lsa_vec_res)\n",
    "\n",
    "# Return 5 top positions\n",
    "top_pos = recommender(score.Resume6, 5)\n",
    "top_pos"
   ]
  },
  {
   "cell_type": "code",
   "execution_count": 105,
   "metadata": {
    "ExecuteTime": {
     "end_time": "2019-11-12T23:40:54.709327Z",
     "start_time": "2019-11-12T23:40:54.602086Z"
    }
   },
   "outputs": [
    {
     "data": {
      "text/plain": [
       "1.0"
      ]
     },
     "execution_count": 105,
     "metadata": {},
     "output_type": "execute_result"
    }
   ],
   "source": [
    "score.Resume6.sort_values(ascending=False)[298]"
   ]
  },
  {
   "cell_type": "code",
   "execution_count": 113,
   "metadata": {
    "ExecuteTime": {
     "end_time": "2019-11-12T23:48:40.523355Z",
     "start_time": "2019-11-12T23:48:40.459442Z"
    }
   },
   "outputs": [
    {
     "data": {
      "text/plain": [
       "Job2       1.0\n",
       "Job29      1.0\n",
       "Job58      1.0\n",
       "Job70      1.0\n",
       "Job71      1.0\n",
       "          ... \n",
       "Job5007    1.0\n",
       "Job5008    1.0\n",
       "Job5026    1.0\n",
       "Job5027    1.0\n",
       "Job5040    1.0\n",
       "Name: Resume6, Length: 368, dtype: float64"
      ]
     },
     "execution_count": 113,
     "metadata": {},
     "output_type": "execute_result"
    }
   ],
   "source": [
    "score.loc[score.Resume6 == 1.0]['Resume6']"
   ]
  },
  {
   "cell_type": "code",
   "execution_count": null,
   "metadata": {},
   "outputs": [],
   "source": []
  },
  {
   "cell_type": "code",
   "execution_count": null,
   "metadata": {},
   "outputs": [],
   "source": []
  },
  {
   "cell_type": "code",
   "execution_count": null,
   "metadata": {},
   "outputs": [],
   "source": []
  },
  {
   "cell_type": "markdown",
   "metadata": {},
   "source": [
    "## Models"
   ]
  },
  {
   "cell_type": "markdown",
   "metadata": {
    "ExecuteTime": {
     "end_time": "2019-11-08T00:12:59.978068Z",
     "start_time": "2019-11-08T00:12:59.973786Z"
    }
   },
   "source": [
    "# Functions"
   ]
  },
  {
   "cell_type": "code",
   "execution_count": 89,
   "metadata": {
    "ExecuteTime": {
     "end_time": "2019-11-12T23:31:28.497185Z",
     "start_time": "2019-11-12T23:31:28.439139Z"
    }
   },
   "outputs": [],
   "source": [
    "def recommender(score, num_pos):\n",
    "    best = score.sort_values(ascending=False)[:num_pos]\n",
    "    best = pd.Series.to_frame(best, name = 'Similarity score')\n",
    "    best.reset_index(level=0, inplace=True)\n",
    "    best.rename(columns={'index':'Position ID'}, inplace=True)\n",
    "    \n",
    "    return best"
   ]
  },
  {
   "cell_type": "code",
   "execution_count": 212,
   "metadata": {
    "ExecuteTime": {
     "end_time": "2019-11-13T00:58:24.521519Z",
     "start_time": "2019-11-13T00:58:24.465023Z"
    }
   },
   "outputs": [],
   "source": [
    "from sklearn.decomposition import LatentDirichletAllocation \n",
    "from sklearn.datasets import make_multilabel_classification\n"
   ]
  },
  {
   "cell_type": "code",
   "execution_count": 213,
   "metadata": {
    "ExecuteTime": {
     "end_time": "2019-11-13T00:58:27.172947Z",
     "start_time": "2019-11-13T00:58:27.111987Z"
    }
   },
   "outputs": [],
   "source": [
    "def docs_to_topics_lda(max_df=0.5,\n",
    "                  min_df = 0.005,\n",
    "                  stop_words = stop_words_1,\n",
    "                  components=15, \n",
    "                  positions=jobs_skills_d.noun_skills,\n",
    "                  word_num=5,\n",
    "                  resumes = resumes):\n",
    "    \n",
    "    tf_idf = TfidfVectorizer(ngram_range=(1, 2),\n",
    "                            max_df = max_df,\n",
    "                            min_df = min_df,\n",
    "                            stop_words = stop_words)   \n",
    "\n",
    "    components = components  # number of LSA components\n",
    "    lda = LatentDirichletAllocation(components, random_state = 5)\n",
    "\n",
    "    # reduce dimensionality\n",
    "    lda_vec_pos = lda.fit_transform(tf_idf.fit_transform(positions).toarray())  \n",
    "    lda_vec_res = lda.transform(tf_idf.transform(resumes).toarray())  \n",
    "    \n",
    "    return lda_vec_pos, lda_vec_res\n"
   ]
  },
  {
   "cell_type": "code",
   "execution_count": 48,
   "metadata": {
    "ExecuteTime": {
     "end_time": "2019-11-12T23:10:52.892860Z",
     "start_time": "2019-11-12T23:10:52.832418Z"
    }
   },
   "outputs": [],
   "source": [
    "def docs_to_topics_lsa(max_df=0.5,\n",
    "                  min_df = 0.005,\n",
    "                  stop_words = stop_words_1,\n",
    "                  components=15, \n",
    "                  positions=jobs_skills_d.noun_skills,\n",
    "                  word_num=5,\n",
    "                  resumes = resumes):\n",
    "    \n",
    "    tf_idf = TfidfVectorizer(ngram_range=(1, 2),\n",
    "                            max_df = max_df,\n",
    "                            min_df = min_df,\n",
    "                            stop_words = stop_words)   \n",
    "\n",
    "    components = components  # number of LSA components\n",
    "    lsa = TruncatedSVD(components, random_state = 5)\n",
    "\n",
    "    # reduce dimensionality\n",
    "    lsa_vec_pos = lsa.fit_transform(tf_idf.fit_transform(positions).toarray())  \n",
    "    lsa_vec_res = lsa.transform(tf_idf.transform(resumes).toarray())  \n",
    "    \n",
    "    return lsa_vec_pos, lsa_vec_res\n"
   ]
  },
  {
   "cell_type": "code",
   "execution_count": 203,
   "metadata": {
    "ExecuteTime": {
     "end_time": "2019-11-13T00:51:35.440096Z",
     "start_time": "2019-11-13T00:51:35.379819Z"
    }
   },
   "outputs": [],
   "source": [
    "def docs_to_topics_nmf(max_df=0.5,\n",
    "                  min_df = 0.005,\n",
    "                  stop_words = stop_words_1,\n",
    "                  components=15, \n",
    "                  positions=jobs_skills_d.noun_skills,\n",
    "                  word_num=5,\n",
    "                  resumes = resumes):\n",
    "    \n",
    "    tf_idf = TfidfVectorizer(ngram_range=(1, 2),\n",
    "                            max_df = max_df,\n",
    "                            min_df = min_df,\n",
    "                            stop_words = stop_words)   \n",
    "\n",
    "    components = components  # number of LSA components\n",
    "    nmf = NMF(components, random_state = 5)\n",
    "\n",
    "    # reduce dimensionality\n",
    "    nmf_vec_pos = nmf.fit_transform(tf_idf.fit_transform(positions).toarray())  \n",
    "    nmf_vec_res = nmf.transform(tf_idf.transform(resumes).toarray())  \n",
    "    \n",
    "    return nmf_vec_pos, nmf_vec_res\n"
   ]
  },
  {
   "cell_type": "code",
   "execution_count": null,
   "metadata": {
    "ExecuteTime": {
     "end_time": "2019-11-12T19:34:10.442785Z",
     "start_time": "2019-11-12T19:34:10.437136Z"
    }
   },
   "outputs": [],
   "source": [
    "# Pre-process text\n",
    "def pre_process(text):\n",
    "    text_sub = re.sub('[/.\\n:-]', ' ', text)  # Remove \"/\" and \".\"\n",
    "    text_sub = re.sub('[,\\(\\)]', '', text_sub).lower()  # Remove \",\" and capital letters\n",
    "    text_sub = re.sub('[^a-z\\s]', '', text_sub) # Keep alphanumer characters only\n",
    "#     re.sub('[%s]' % re.escape(string.punctuation), ' ', my_text)\n",
    "\n",
    "    return text_sub"
   ]
  },
  {
   "cell_type": "code",
   "execution_count": null,
   "metadata": {
    "ExecuteTime": {
     "end_time": "2019-11-12T19:34:10.973600Z",
     "start_time": "2019-11-12T19:34:10.967916Z"
    }
   },
   "outputs": [],
   "source": [
    "# Tokenize text\n",
    "def tokenize_lemma(text):\n",
    "        \n",
    "    # processer = spacy.load('en')\n",
    "    tokenizer = spacy.load('en_core_web_sm')\n",
    "\n",
    "    text_obj = tokenizer(text)\n",
    "    text_str = ' '.join([token.lemma_ for token in text_obj if not token.is_stop])\n",
    "    return text_str"
   ]
  },
  {
   "cell_type": "code",
   "execution_count": null,
   "metadata": {
    "ExecuteTime": {
     "end_time": "2019-11-12T19:34:11.484120Z",
     "start_time": "2019-11-12T19:34:11.478061Z"
    }
   },
   "outputs": [],
   "source": [
    "# Vectorize\n",
    "def tf_idf(text1, text2):\n",
    "    tfidf = TfidfVectorizer(ngram_range=(1, 2),               # vectorizer\n",
    "                        stop_words='english', \n",
    "                        token_pattern=\"\\\\b[a-z][a-z]+\\\\b\")\n",
    "    X_tfidf = tfidf.fit_transform(text1).toarray()            # vectorize text1\n",
    "    Z_tfidf = tfidf.transform(text2).toarray()                # vectorize text1\n",
    "    \n",
    "    \n",
    "#     print('text1{}'.format(pd.DataFrame(X_tfidf, columns=tfidf.get_feature_names()).head(5)))\n",
    "#     print('text2{}'.format(pd.DataFrame(Z_tfidf, columns=tfidf.get_feature_names()).head(5)))\n",
    "    \n",
    "    return X_tfidf, Z_tfidf"
   ]
  },
  {
   "cell_type": "code",
   "execution_count": null,
   "metadata": {
    "ExecuteTime": {
     "end_time": "2019-11-12T19:34:12.030169Z",
     "start_time": "2019-11-12T19:34:12.023773Z"
    }
   },
   "outputs": [],
   "source": [
    "# Reduce dimensionality:\n",
    "def lsa(X, Z):\n",
    "    lsa = TruncatedSVD(4)\n",
    "    X_lsa = lsa.fit_transform(X)\n",
    "    Z_lsa = lsa.transform(Z)\n",
    "  \n",
    "    \n",
    "    return X_lsa, Z_lsa"
   ]
  },
  {
   "cell_type": "code",
   "execution_count": 42,
   "metadata": {
    "ExecuteTime": {
     "end_time": "2019-11-12T23:09:24.352035Z",
     "start_time": "2019-11-12T23:09:24.285956Z"
    }
   },
   "outputs": [],
   "source": [
    "def similarity(X_red, Z_red):\n",
    "    score = cosine_similarity(X_red, Z_red).round(2)\n",
    "    \n",
    "    column_labels = ['Resume'+str(i) for i in range(1, Z_red.shape[0]+1)]\n",
    "    row_labels = ['Job'+str(i) for i in range(1, X_red.shape[0]+1)]\n",
    "   \n",
    "    similarity_df = pd.DataFrame(score, columns=column_labels, index=row_labels)\n",
    "#     print(similarity_df)\n",
    "        \n",
    "    return similarity_df"
   ]
  },
  {
   "cell_type": "markdown",
   "metadata": {},
   "source": [
    "### Toy example"
   ]
  },
  {
   "cell_type": "code",
   "execution_count": null,
   "metadata": {
    "ExecuteTime": {
     "end_time": "2019-11-12T19:37:10.568573Z",
     "start_time": "2019-11-12T19:36:05.125865Z"
    }
   },
   "outputs": [],
   "source": [
    "# Clean, lemma, tf-idf, lsa, cosine similarity\n",
    "\n",
    "train_data['text'] = train_data.description.apply(pre_process) # clean\n",
    "train_data['lemma'] = train_data.text.apply(tokenize_lemma) # tokenize and lemmatize\n",
    "\n",
    "test_data_pos['text'] = test_data_pos.description.apply(pre_process)  # clean\n",
    "test_data_pos['lemma'] = test_data_pos.text.apply(tokenize_lemma) # tokenize and lemmatize\n",
    "\n",
    "resumes['text'] = resumes.description.apply(pre_process)  # clean\n",
    "resumes['lemma'] = resumes.text.apply(tokenize_lemma) # tokenize and lemmatize\n",
    "\n",
    "Tr_tfidf, R_tfidf = tf_idf(train_data.text, resumes.text) # vectorize\n",
    "Tr_tfidf, Ts_tfidf = tf_idf(train_data.text, test_data_pos.text) # vectorize\n",
    "\n",
    "Tr_lsa, R_lsa = lsa(Tr_tfidf, R_tfidf)  # reduce dimensionality\n",
    "Tr_lsa, Ts_lsa = lsa(Tr_tfidf, Ts_tfidf)  # reduce dimensionality\n",
    "\n",
    "score = similarity(Ts_lsa, R_lsa) # cosine similarity"
   ]
  },
  {
   "cell_type": "code",
   "execution_count": null,
   "metadata": {
    "ExecuteTime": {
     "end_time": "2019-11-12T19:37:27.100856Z",
     "start_time": "2019-11-12T19:37:27.085368Z"
    }
   },
   "outputs": [],
   "source": [
    "score"
   ]
  },
  {
   "cell_type": "code",
   "execution_count": null,
   "metadata": {
    "ExecuteTime": {
     "end_time": "2019-11-12T19:38:02.849422Z",
     "start_time": "2019-11-12T19:38:02.824382Z"
    }
   },
   "outputs": [],
   "source": [
    "train_data"
   ]
  },
  {
   "cell_type": "markdown",
   "metadata": {},
   "source": [
    "# Stop words"
   ]
  },
  {
   "cell_type": "code",
   "execution_count": 21,
   "metadata": {
    "ExecuteTime": {
     "end_time": "2019-11-12T22:38:14.359183Z",
     "start_time": "2019-11-12T22:38:14.296449Z"
    }
   },
   "outputs": [],
   "source": [
    "stop_words_1 = [\n",
    "    'yearexperience', 'year', 'years', 'porch', 'work', 'home', 'term', 'datum', 'hand', 'science', 'other', \n",
    "    're', 'sex', 'gender', 'data scientist', 'data scientists', 'scientists','scientist', 'com', 'age', \n",
    "    'analyst', 'analysts', 'race','hourexperience', 'job type', 'end', 'employee', 'employees','employers', \n",
    "    'employer', 'job', 'career', 'fish', 'violet','opportunities', 'business', 'disability', 'company', \n",
    "    'companies', 'stakeholders', 'talent', 'skill', 'skills', 'team', 'teams', 'experience', 'expert', 'hands', \n",
    "    'games', 'players', 'creativity','models', 'roles', 'application', 'specifications', 'change','issues', \n",
    "    'search', 'status', 'impact', 'changes', 'location', 'detail', 'insights', 'document', 'client', 'sets', \n",
    "    'set', 'detail', 'analytics', 'fusion','applications', 'candidates','standards', 'manager', 'assets', \n",
    "    'health', 'accommodation', 'services', 'service', 'transwest', 'program', 'commute', 'utilization',\n",
    "    'technology', 'solutions', 'part', 'success', 'findings', 'notes', 'satisfaction', 'case', 'group', 'redviolet', 'trends', 'optimization',\n",
    "    'others', 'account', 'strategy', 'bike parking', 'account', 'performance','preduction', 'relationship', \n",
    "    'waterfront views', 'manage', 'quality', 'type time', 'problems', 'projects', 'people', 'collaboration', \n",
    "    'strategies', 'programs', 'partner', 'core', 'operations', 'rsu', 'plans', 'methods', 'variety', 'revenue', \n",
    "    'data', 'technologies', 'visualizations', 'type', 'life', 'safety', 'analysis', 'time', 'design', 'research', \n",
    "    'relevance', 'passion', 'customer', 'learning', 'environment', 'tasks','family', 'benefits', 'development', \n",
    "    'complete', 'industry', 'user', 'organizations', 'customers', 'documentations', 'members', 'competencies',\n",
    "    'homeowners', 'networking', 'apply', 'hire', 'homeowner', 'jobs', 'firm', 'position', 'entities',\n",
    "    'tools', 'initiative', 'servicekey', 'intents', 'merit','bonuses', 'paid', 'asset', 'candidate', \n",
    "    'building', 'sector', 'employment', 'stakeholder', 'note', 'entity', 'finding', 'staff', 'drawing',\n",
    "    'award', 'tool', 'latitude', 'view', 'button', 'matter', 'method', 'professionals', 'techniques',\n",
    "    'states', 'house', 'holidayswe', 'handyman', 'requirementsperform', 'sr', 'sales', 'results',\n",
    "    'length', 'ability', 'expertise', 'sr marketing', 'interviewdirectenergy', 'parks', 'child care',\n",
    "    'religion', 'veteran', 'regard', 'days', 'directors', 'topics', 'salary', 'interview', 'care',\n",
    "    'repairs', 'carpentry', 'role', 'tech', 'hundreds', 'requirements', 'platform', 'level', 'child',\n",
    "    'orientation'\n",
    "]"
   ]
  },
  {
   "cell_type": "code",
   "execution_count": 22,
   "metadata": {
    "ExecuteTime": {
     "end_time": "2019-11-12T22:38:14.923646Z",
     "start_time": "2019-11-12T22:38:14.866146Z"
    }
   },
   "outputs": [],
   "source": [
    "stop_words_2 = [\n",
    "    'yearexperience', 'year', 'porch', 'work', 'home', 'term', 'datum', 'hand', 'science', 'other', \n",
    "    're', 'sex', 'gender', 'data scientist', 'scientist', 'com', 'age', \n",
    "    'analyst', 'race','hourexperience', 'job type', 'end', 'employee',\n",
    "    'employer', 'job', 'career', 'fish', 'violet','opportunity', 'business', 'disability', 'company', \n",
    "    'stakeholders', 'talent', 'skill', 'team', 'experience', 'expert', \n",
    "    'player', 'creativity', 'role', 'application', 'specification', 'change','issue', \n",
    "    'search', 'status', 'impact', 'changes', 'location', 'detail', 'insight', 'document', 'client',\n",
    "    'set', 'detail', 'analytics', 'fusion','applications', 'candidates','standards', 'manager', 'asset', \n",
    "    'health', 'accommodation', 'service', 'transwest', 'program', 'commute', 'utilization',\n",
    "    'technology', 'solution', 'part', 'success', 'finding', 'satisfaction', 'case', 'group', 'redviolet', 'trends', 'optimization',\n",
    "    'account', 'strategy', 'bike parking', 'account', 'performance','preduction', 'relationship', \n",
    "    'waterfront view', 'manage', 'quality', 'type time', 'people', 'collaboration', \n",
    "    'partner', 'core', 'variety', 'revenue', \n",
    "    'data', 'type', 'life', 'safety', 'analysis', 'time', 'design', 'research', \n",
    "    'relevance', 'passion', 'customer', 'learning', 'environment', 'task','family', 'benefit', 'development', \n",
    "    'complete', 'industry', 'day', 'sector'\n",
    "]"
   ]
  },
  {
   "cell_type": "code",
   "execution_count": 23,
   "metadata": {
    "ExecuteTime": {
     "end_time": "2019-11-12T22:38:15.401145Z",
     "start_time": "2019-11-12T22:38:15.346384Z"
    }
   },
   "outputs": [],
   "source": [
    "stop_words_3 = []"
   ]
  },
  {
   "cell_type": "code",
   "execution_count": null,
   "metadata": {},
   "outputs": [],
   "source": []
  }
 ],
 "metadata": {
  "kernelspec": {
   "display_name": "Python [conda env:project4e]",
   "language": "python",
   "name": "conda-env-project4e-py"
  },
  "language_info": {
   "codemirror_mode": {
    "name": "ipython",
    "version": 3
   },
   "file_extension": ".py",
   "mimetype": "text/x-python",
   "name": "python",
   "nbconvert_exporter": "python",
   "pygments_lexer": "ipython3",
   "version": "3.7.3"
  },
  "toc": {
   "base_numbering": 1,
   "nav_menu": {},
   "number_sections": true,
   "sideBar": true,
   "skip_h1_title": false,
   "title_cell": "Table of Contents",
   "title_sidebar": "Contents",
   "toc_cell": false,
   "toc_position": {
    "height": "calc(100% - 180px)",
    "left": "10px",
    "top": "150px",
    "width": "288px"
   },
   "toc_section_display": true,
   "toc_window_display": true
  }
 },
 "nbformat": 4,
 "nbformat_minor": 2
}

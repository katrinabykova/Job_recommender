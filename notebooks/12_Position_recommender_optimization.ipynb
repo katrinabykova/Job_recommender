{
 "cells": [
  {
   "cell_type": "code",
   "execution_count": 435,
   "metadata": {
    "ExecuteTime": {
     "end_time": "2019-11-15T03:59:32.236250Z",
     "start_time": "2019-11-15T03:59:32.168123Z"
    }
   },
   "outputs": [],
   "source": [
    "import pandas as pd\n",
    "import os\n",
    "import re\n",
    "from bs4 import BeautifulSoup\n",
    "import requests\n",
    "import nltk\n",
    "import pickle\n",
    "from sklearn.feature_extraction.text import CountVectorizer \n",
    "from sklearn.decomposition import TruncatedSVD\n",
    "from sklearn.decomposition import NMF\n",
    "from sklearn.metrics.pairwise import cosine_similarity\n",
    "from sklearn.feature_extraction.text import TfidfVectorizer\n",
    "from nltk.tokenize import word_tokenize, sent_tokenize\n",
    "from textblob import TextBlob\n",
    "import textcleaner as tc\n",
    "from nltk.stem import WordNetLemmatizer \n",
    "import spacy\n",
    "import numpy as np\n",
    "import matplotlib.pyplot as plt\n",
    "from sklearn.decomposition import LatentDirichletAllocation \n",
    "from sklearn.datasets import make_multilabel_classification\n",
    "\n",
    "from src.models.docs_and_topics import docs_to_topics_lda, docs_to_topics_nmf\n",
    "from src.models.stop_words_list_1 import stop_words_1\n",
    "from src.models  import cosine_sim "
   ]
  },
  {
   "cell_type": "code",
   "execution_count": 16,
   "metadata": {
    "ExecuteTime": {
     "end_time": "2019-11-14T22:11:32.551972Z",
     "start_time": "2019-11-14T22:11:32.493540Z"
    }
   },
   "outputs": [],
   "source": [
    "import warnings\n",
    "warnings.filterwarnings('ignore')"
   ]
  },
  {
   "cell_type": "code",
   "execution_count": 17,
   "metadata": {
    "ExecuteTime": {
     "end_time": "2019-11-14T22:11:33.143930Z",
     "start_time": "2019-11-14T22:11:33.086556Z"
    }
   },
   "outputs": [
    {
     "name": "stdout",
     "output_type": "stream",
     "text": [
      "The autoreload extension is already loaded. To reload it, use:\n",
      "  %reload_ext autoreload\n"
     ]
    }
   ],
   "source": [
    "%load_ext autoreload\n",
    "%autoreload 2"
   ]
  },
  {
   "cell_type": "code",
   "execution_count": 18,
   "metadata": {
    "ExecuteTime": {
     "end_time": "2019-11-14T22:11:38.112553Z",
     "start_time": "2019-11-14T22:11:34.014521Z"
    }
   },
   "outputs": [
    {
     "name": "stdout",
     "output_type": "stream",
     "text": [
      "Obtaining file:///Users/greenapple/project4\n",
      "Installing collected packages: src\n",
      "  Found existing installation: src 0.1.0\n",
      "    Uninstalling src-0.1.0:\n",
      "      Successfully uninstalled src-0.1.0\n",
      "  Running setup.py develop for src\n",
      "Successfully installed src\n"
     ]
    }
   ],
   "source": [
    "! pip install --editable .."
   ]
  },
  {
   "cell_type": "markdown",
   "metadata": {},
   "source": [
    "# Load positions"
   ]
  },
  {
   "cell_type": "code",
   "execution_count": 22,
   "metadata": {
    "ExecuteTime": {
     "end_time": "2019-11-14T22:12:35.309621Z",
     "start_time": "2019-11-14T22:12:34.353119Z"
    }
   },
   "outputs": [],
   "source": [
    "# Load tokenized text for WA\n",
    "pickling_out = open('/Users/greenapple/project4/data/processed/jobs_skills_token.pkl', 'rb')\n",
    "jobs_skills = pickle.load(pickling_out)"
   ]
  },
  {
   "cell_type": "code",
   "execution_count": 23,
   "metadata": {
    "ExecuteTime": {
     "end_time": "2019-11-14T22:12:35.395205Z",
     "start_time": "2019-11-14T22:12:35.312076Z"
    }
   },
   "outputs": [
    {
     "data": {
      "text/plain": [
       "(8939, 20)"
      ]
     },
     "execution_count": 23,
     "metadata": {},
     "output_type": "execute_result"
    }
   ],
   "source": [
    "jobs_skills.shape"
   ]
  },
  {
   "cell_type": "code",
   "execution_count": 28,
   "metadata": {
    "ExecuteTime": {
     "end_time": "2019-11-14T22:14:36.726906Z",
     "start_time": "2019-11-14T22:14:36.647617Z"
    }
   },
   "outputs": [
    {
     "data": {
      "text/plain": [
       "((5058, 20), (8939, 20))"
      ]
     },
     "execution_count": 28,
     "metadata": {},
     "output_type": "execute_result"
    }
   ],
   "source": [
    "# Data scientist/analyst jobs only\n",
    "jobs_skills_d = jobs_skills.loc[jobs_skills.type=='positive']\n",
    "jobs_skills_d.reset_index(inplace=True, drop=True)\n",
    "jobs_skills_d.shape, jobs_skills.shape"
   ]
  },
  {
   "cell_type": "code",
   "execution_count": 29,
   "metadata": {
    "ExecuteTime": {
     "end_time": "2019-11-14T22:14:38.652874Z",
     "start_time": "2019-11-14T22:14:38.596250Z"
    }
   },
   "outputs": [],
   "source": [
    "jobs_skills_d['type'] = 'data_scientist'"
   ]
  },
  {
   "cell_type": "code",
   "execution_count": 30,
   "metadata": {
    "ExecuteTime": {
     "end_time": "2019-11-14T22:14:40.144849Z",
     "start_time": "2019-11-14T22:14:40.083457Z"
    }
   },
   "outputs": [
    {
     "data": {
      "text/plain": [
       "((3881, 20), (8939, 20))"
      ]
     },
     "execution_count": 30,
     "metadata": {},
     "output_type": "execute_result"
    }
   ],
   "source": [
    "# Not data scientist/analyst jobs only\n",
    "jobs_skills_n = jobs_skills.loc[jobs_skills.type!='positive']\n",
    "jobs_skills_n.reset_index(inplace=True, drop=True)\n",
    "jobs_skills_n.shape, jobs_skills.shape"
   ]
  },
  {
   "cell_type": "markdown",
   "metadata": {},
   "source": [
    "# Additional clinical trial and civil engineer jobs"
   ]
  },
  {
   "cell_type": "code",
   "execution_count": 24,
   "metadata": {
    "ExecuteTime": {
     "end_time": "2019-11-14T22:12:36.315543Z",
     "start_time": "2019-11-14T22:12:36.154275Z"
    }
   },
   "outputs": [],
   "source": [
    "# Load tokenized text for clinical jobs\n",
    "pickling_out = open('/Users/greenapple/project4/data/processed/jobs_clinical_skills_token.pkl', 'rb')\n",
    "jobs_skills_clinical = pickle.load(pickling_out)"
   ]
  },
  {
   "cell_type": "code",
   "execution_count": 25,
   "metadata": {
    "ExecuteTime": {
     "end_time": "2019-11-14T22:12:37.090616Z",
     "start_time": "2019-11-14T22:12:37.033391Z"
    }
   },
   "outputs": [
    {
     "data": {
      "text/plain": [
       "(1655, 13)"
      ]
     },
     "execution_count": 25,
     "metadata": {},
     "output_type": "execute_result"
    }
   ],
   "source": [
    "jobs_skills_clinical.shape"
   ]
  },
  {
   "cell_type": "code",
   "execution_count": 26,
   "metadata": {
    "ExecuteTime": {
     "end_time": "2019-11-14T22:12:38.316791Z",
     "start_time": "2019-11-14T22:12:38.260969Z"
    }
   },
   "outputs": [],
   "source": [
    "jobs_skills_clinical['type'] = 'clinical_trial_specialist'"
   ]
  },
  {
   "cell_type": "code",
   "execution_count": 27,
   "metadata": {
    "ExecuteTime": {
     "end_time": "2019-11-14T22:12:40.460834Z",
     "start_time": "2019-11-14T22:12:40.381260Z"
    },
    "collapsed": true
   },
   "outputs": [
    {
     "ename": "FileNotFoundError",
     "evalue": "[Errno 2] No such file or directory: ''",
     "output_type": "error",
     "traceback": [
      "\u001b[0;31m---------------------------------------------------------------------------\u001b[0m",
      "\u001b[0;31mFileNotFoundError\u001b[0m                         Traceback (most recent call last)",
      "\u001b[0;32m<ipython-input-27-771441a5c9f8>\u001b[0m in \u001b[0;36m<module>\u001b[0;34m\u001b[0m\n\u001b[1;32m      1\u001b[0m \u001b[0;31m# Load tokenized text for engineer jobs\u001b[0m\u001b[0;34m\u001b[0m\u001b[0;34m\u001b[0m\u001b[0;34m\u001b[0m\u001b[0m\n\u001b[0;32m----> 2\u001b[0;31m \u001b[0mpickling_out\u001b[0m \u001b[0;34m=\u001b[0m \u001b[0mopen\u001b[0m\u001b[0;34m(\u001b[0m\u001b[0;34m''\u001b[0m\u001b[0;34m,\u001b[0m \u001b[0;34m'rb'\u001b[0m\u001b[0;34m)\u001b[0m\u001b[0;34m\u001b[0m\u001b[0;34m\u001b[0m\u001b[0m\n\u001b[0m\u001b[1;32m      3\u001b[0m \u001b[0mjobs_skills_engineer\u001b[0m \u001b[0;34m=\u001b[0m \u001b[0mpickle\u001b[0m\u001b[0;34m.\u001b[0m\u001b[0mload\u001b[0m\u001b[0;34m(\u001b[0m\u001b[0mpickling_out\u001b[0m\u001b[0;34m)\u001b[0m\u001b[0;34m\u001b[0m\u001b[0;34m\u001b[0m\u001b[0m\n",
      "\u001b[0;31mFileNotFoundError\u001b[0m: [Errno 2] No such file or directory: ''"
     ]
    }
   ],
   "source": [
    "# Load tokenized text for engineer jobs\n",
    "pickling_out = open('', 'rb')\n",
    "jobs_skills_engineer = pickle.load(pickling_out)"
   ]
  },
  {
   "cell_type": "code",
   "execution_count": null,
   "metadata": {},
   "outputs": [],
   "source": [
    "jobs_skills_engineer.shape"
   ]
  },
  {
   "cell_type": "code",
   "execution_count": null,
   "metadata": {},
   "outputs": [],
   "source": [
    "jobs_skills_engineer['type'] = 'civil_engineer'"
   ]
  },
  {
   "cell_type": "code",
   "execution_count": null,
   "metadata": {},
   "outputs": [],
   "source": [
    "all_jobs = concat([jobs_skills_d, jobs_skills_clinical, jobs_skills_d], axis=1)"
   ]
  },
  {
   "cell_type": "code",
   "execution_count": 74,
   "metadata": {
    "ExecuteTime": {
     "end_time": "2019-11-14T00:18:55.816107Z",
     "start_time": "2019-11-14T00:18:55.733448Z"
    }
   },
   "outputs": [],
   "source": [
    "# Remove later\n",
    "all_jobs = pd.concat([jobs_skills_d, jobs_skills_clinical], axis=1)"
   ]
  },
  {
   "cell_type": "code",
   "execution_count": 75,
   "metadata": {
    "ExecuteTime": {
     "end_time": "2019-11-14T00:19:03.822028Z",
     "start_time": "2019-11-14T00:19:03.752334Z"
    }
   },
   "outputs": [
    {
     "data": {
      "text/plain": [
       "(5058, 34)"
      ]
     },
     "execution_count": 75,
     "metadata": {},
     "output_type": "execute_result"
    }
   ],
   "source": [
    "all_jobs.shape"
   ]
  },
  {
   "cell_type": "markdown",
   "metadata": {},
   "source": [
    "# Load resumes"
   ]
  },
  {
   "cell_type": "code",
   "execution_count": 169,
   "metadata": {
    "ExecuteTime": {
     "end_time": "2019-11-14T23:39:00.821042Z",
     "start_time": "2019-11-14T23:39:00.760597Z"
    }
   },
   "outputs": [],
   "source": [
    "# Load resumes:\n",
    "\n",
    "# Data resumes\n",
    "pickling_out = open('/Users/greenapple/project4/data/resumes/resumes_metis_111319', 'rb')\n",
    "data_list = pickle.load(pickling_out)\n",
    "\n",
    "# Clinical resumes\n",
    "pickling_out = open('/Users/greenapple/project4/data/resumes/resumes_clinical_111319', 'rb')\n",
    "clinical_list = pickle.load(pickling_out)\n",
    "\n",
    "# Engineer resumes\n",
    "pickling_out = open('/Users/greenapple/project4/data/resumes/resumes_engineer_111319', 'rb')\n",
    "engineer_list = pickle.load(pickling_out)"
   ]
  },
  {
   "cell_type": "code",
   "execution_count": 172,
   "metadata": {
    "ExecuteTime": {
     "end_time": "2019-11-14T23:39:30.039948Z",
     "start_time": "2019-11-14T23:39:29.972824Z"
    }
   },
   "outputs": [],
   "source": [
    "# To dataframe\n",
    "data_list_df = pd.DataFrame(data_list, columns = ['description'], index = list(range(0,24)))\n",
    "data_list_df['type'] = 'data_scientist'\n",
    "\n",
    "clinical_list_df = pd.DataFrame(list(clinical_list), columns = ['description'], index = list(range(24,48)))\n",
    "clinical_list_df['type'] = 'clinical_trial_specialist'\n",
    "\n",
    "engineer_list_df = pd.DataFrame(engineer_list, columns = ['description'], index = list(range(48,72)))\n",
    "engineer_list_df['type'] = 'civil_engineer'\n",
    "\n",
    "resumes = pd.concat([data_list_df, clinical_list_df, engineer_list_df])"
   ]
  },
  {
   "cell_type": "code",
   "execution_count": 175,
   "metadata": {
    "ExecuteTime": {
     "end_time": "2019-11-14T23:40:01.077492Z",
     "start_time": "2019-11-14T23:39:57.481175Z"
    }
   },
   "outputs": [],
   "source": [
    "# Process resumes\n",
    "from src.features.pre_process_text import pre_process\n",
    "from src.features.tokenize_text import tokenize_word, tokenize_noun, tokenize_lemma, tokenize_noun_lemma\n",
    "\n",
    "resumes['clean_skills'] = resumes.description.apply(pre_process) # clean\n",
    "\n",
    "# Tokenize:\n",
    "resumes['noun_skills'] = resumes.clean_skills.apply(tokenize_noun)\n",
    "resumes['word_skills'] = resumes.clean_skills.apply(tokenize_word)\n",
    "resumes['noun_lemma_skills'] = resumes.clean_skills.apply(tokenize_noun_lemma)\n",
    "resumes['lemma_skills'] = resumes.clean_skills.apply(tokenize_lemma)"
   ]
  },
  {
   "cell_type": "code",
   "execution_count": 176,
   "metadata": {
    "ExecuteTime": {
     "end_time": "2019-11-14T23:40:04.141224Z",
     "start_time": "2019-11-14T23:40:04.082845Z"
    }
   },
   "outputs": [
    {
     "data": {
      "text/plain": [
       "(24, 7)"
      ]
     },
     "execution_count": 176,
     "metadata": {},
     "output_type": "execute_result"
    }
   ],
   "source": [
    "resumes_little = resumes[:24]\n",
    "resumes_little.shape"
   ]
  },
  {
   "cell_type": "code",
   "execution_count": 179,
   "metadata": {
    "ExecuteTime": {
     "end_time": "2019-11-14T23:40:34.583139Z",
     "start_time": "2019-11-14T23:40:34.527063Z"
    },
    "collapsed": true
   },
   "outputs": [
    {
     "name": "stdout",
     "output_type": "stream",
     "text": [
      "herbert pan\n",
      "\n",
      "MZ panherbert@gmail.com & +1-909-859-5884 9 Greater Los Angeles Reigion, CA 91789 in panherbert/ © panherbert\n",
      "\n",
      " \n",
      "\n",
      "+ projects\n",
      "\n",
      " \n",
      "\n",
      "Social Media Followers Market Segmentation\n",
      "+ To perform market segment and topic analysis to gain valuable insights from targeted account.\n",
      "+ Data: Scraped =150.9K followers account and =6.3M tweets.\n",
      "+ Tools: AWS EC2, Google Cloud Compute, MongoDB\n",
      "\n",
      " \n",
      "\n",
      "How Can We Improve Our Products?\n",
      "+ Performed sentiment and topic analysis on targeted SKUs.\n",
      "+ Data: Scraped =36,000 product reviews over =10 SKUs.\n",
      "+ Tools: AWS, MongoDB, Amazon Comprehend, Google Cloud Natural Language API, NMF, LSA.\n",
      "\n",
      "Banking Telemarketing Analysis\n",
      "+ Rana series of classification models and used linear classifiers to predict the outcome of the telemarketing activities.\n",
      "+ Tools: PostgreSQL, SQLalchemy, Seaborn, Pandas, Numpy, Scikit-learn\n",
      "\n",
      "Parking Availability\n",
      "+ Built a linear regression model with polynomial Features to predict parking availability around the Seattle region.\n",
      "* Tools: Pandas, Numpy, SODApy, Selenium, BeautifulSoup, Seaborn, Matplotlib, Scikit-learn\n",
      "\n",
      "+ experience\n",
      "\n",
      " \n",
      "\n",
      "Metis\n",
      "\n",
      "Data Science July 2019 to Sept. 2019\n",
      "+ Completed a 12-week ACCET accredited immersive data science program that utilize Python, SQL, D3,js, Keras/TensorFlow, PySpark/Spark and Tableau.\n",
      "\n",
      "The Boeing Company, on assignment thru Genpact Dallas, TX\n",
      "\n",
      "Business Intelligence Analyst 2018 to 2019\n",
      "\n",
      "+ Developed ETL framework For processing and monitoring import of the collection of data from source system.\n",
      "+ Developed and executed SQL queries for various ad-hoc reports requested from users.\n",
      "\n",
      "+ Understand the business objectives and provide input and recommendations based on analytical findings.\n",
      "\n",
      "+ Designed, developed, and maintained reports and dashboards.\n",
      "\n",
      "Newegg.com City of Industry, CA\n",
      "Category Manager 2013 to 2018\n",
      "‘Supply Chain / Product Management\n",
      "+ Established new business relationships with intemational IT distributor and brokers in Taiwan and Hong Kong and lowered procurement cost by =10%.\n",
      "* Cold called Hong Kong and Taiwan for potential wholesale clients and achieved YOY growth of 60% in total revenue and 25% in total margin.\n",
      "+ Managed Newegg's pricing strategy to maintain pricing integrity among channels while remaining competitive in the market.\n",
      "Marketing.\n",
      "+ Developed, coordinated, executed and monitored Affiliate, Orrsite, Social Media and Email Marketing campaigns with a targeted approach for optimal exposure,\n",
      "awareness and customer conversion.\n",
      "+ Specialize in search marketing, SEO and SEM activities For responsible categories.\n",
      "+ Measured and analyzed the effectiveness of SEO activities.\n",
      "+ Collaborated with Content, Marketing and Vendor teams to ensure product content, category stores and landing pages are user Friendly, search engine friendly/optimized\n",
      "and keyword relevant.\n",
      "Data Analytics\n",
      "+ Performed weekly analysis and audit to optimize category supply chain and marketing operations.\n",
      "+ Analyzed and visualized results using SQL, Excel and Tableau.\n",
      "\n",
      "PAN AMERICA AUTO GROUP (AUTO BROKER/EXPORT) El Monte, CA\n",
      "Co-owner 2010 to 2013\n",
      "+ Negotiated with dealers and brokers on purchasing price, allocation and procurement schedule to procure inventories averaging $15 million dollars per year.\n",
      "* Developed pricing strategies to incentivize pre-paid transactions and volume buys to generate free working capital.\n",
      "+ Contacted potential clients and established connections that achieved on average $18 million dollars in revenue per year.\n",
      "\n",
      "+ skills\n",
      "\n",
      "PROGRAMMING LANGUAGES: Python, JavaScript, Ruby, SQL (Postgres, Microsoft and Oracle), NoSQL (MongoDB), HTML, SASS, CSS\n",
      "\n",
      "TOOLS / LIBRARIES: Flask, Rails, React, Redux, AJAX, jQuery, Active Record, Pandas, Numpy, Scikit-Learn , PySpark\n",
      "\n",
      "PROGRAMS: Tableau, Google Adwords, Google Search Console, Google Analytic, SAP, Filemaker, Microsoft Suite , Peachtree, Quickbooks, Spyfu\n",
      "AMAZON WEB SERVICES (AWS): Amazon EC2, Amazon Comprehend\n",
      "\n",
      "GOOGLE CLOUD: Google Compute Engine, Natural Language API\n",
      "\n",
      " \n",
      "\n",
      "* education\n",
      "\n",
      " \n",
      "\n",
      "California State University, Long Beach\n",
      "Bachelor of Science Accountancy 2010\n"
     ]
    }
   ],
   "source": [
    "print(resumes_little.description[17])"
   ]
  },
  {
   "cell_type": "code",
   "execution_count": 348,
   "metadata": {
    "ExecuteTime": {
     "end_time": "2019-11-15T02:31:00.327265Z",
     "start_time": "2019-11-15T02:31:00.264614Z"
    }
   },
   "outputs": [],
   "source": [
    "resumes_tiny = resumes[:5]"
   ]
  },
  {
   "cell_type": "markdown",
   "metadata": {},
   "source": [
    "# Recommender"
   ]
  },
  {
   "cell_type": "code",
   "execution_count": null,
   "metadata": {},
   "outputs": [],
   "source": [
    "# Recomender optimization. \n",
    "# Bring to life if have time.\n",
    "\n",
    "# Parameters:\n",
    "# - Models: LSA, NMF, LDA\n",
    "# - Components (topics): 5, 10, 15, 20\n",
    "# - Tokenization: word, noun, lemma, noun_lemma\n",
    "# - min_df and max_df\n",
    "\n",
    "# Optimization metric:\n",
    "# A sum of two deltas. The goal is to maximize the sum.\n",
    "# the delta is a difference in average cosine similarity for:\n",
    "# delta_1 = metis resumes with data scientist postings - metis resumes with clinical trial postings.\n",
    "# delta_2 = metis resumes with data scientist postings - metis resumes with civil engineer postings."
   ]
  },
  {
   "cell_type": "code",
   "execution_count": 428,
   "metadata": {
    "ExecuteTime": {
     "end_time": "2019-11-15T03:53:43.449094Z",
     "start_time": "2019-11-15T03:53:13.276554Z"
    }
   },
   "outputs": [],
   "source": [
    "# LDA\n",
    "lda_vec_pos, lda_vec_res = docs_to_topics_lda(\n",
    "                                              components=20, \n",
    "                                              word_num=5,                           \n",
    "                                              positions=jobs_skills_d.noun_skills,\n",
    "                                              resumes = resumes_tiny.noun_skills,\n",
    "                                              max_df=0.6,\n",
    "                                              min_df = 0.0,\n",
    "                                              stop_words = stop_words_1)\n",
    "\n",
    "# Cosine similarity\n",
    "score = cosine_sim.similarity(lda_vec_pos, lda_vec_res)"
   ]
  },
  {
   "cell_type": "code",
   "execution_count": 429,
   "metadata": {
    "ExecuteTime": {
     "end_time": "2019-11-15T03:53:43.949136Z",
     "start_time": "2019-11-15T03:53:43.451624Z"
    }
   },
   "outputs": [
    {
     "data": {
      "text/plain": [
       "<matplotlib.axes._subplots.AxesSubplot at 0x1800847b8>"
      ]
     },
     "execution_count": 429,
     "metadata": {},
     "output_type": "execute_result"
    },
    {
     "data": {
      "image/png": "[encoded data removed]",
      "text/plain": [
       "<Figure size 432x288 with 1 Axes>"
      ]
     },
     "metadata": {
      "needs_background": "light"
     },
     "output_type": "display_data"
    }
   ],
   "source": [
    "score.Resume1.plot()"
   ]
  },
  {
   "cell_type": "code",
   "execution_count": 414,
   "metadata": {
    "ExecuteTime": {
     "end_time": "2019-11-15T03:40:11.911856Z",
     "start_time": "2019-11-15T03:40:11.843625Z"
    }
   },
   "outputs": [
    {
     "data": {
      "text/html": [
       "<div>\n",
       "<style scoped>\n",
       "    .dataframe tbody tr th:only-of-type {\n",
       "        vertical-align: middle;\n",
       "    }\n",
       "\n",
       "    .dataframe tbody tr th {\n",
       "        vertical-align: top;\n",
       "    }\n",
       "\n",
       "    .dataframe thead th {\n",
       "        text-align: right;\n",
       "    }\n",
       "</style>\n",
       "<table border=\"1\" class=\"dataframe\">\n",
       "  <thead>\n",
       "    <tr style=\"text-align: right;\">\n",
       "      <th></th>\n",
       "      <th>Position ID</th>\n",
       "      <th>Similarity score</th>\n",
       "    </tr>\n",
       "  </thead>\n",
       "  <tbody>\n",
       "    <tr>\n",
       "      <td>0</td>\n",
       "      <td>Job2415</td>\n",
       "      <td>0.82</td>\n",
       "    </tr>\n",
       "    <tr>\n",
       "      <td>1</td>\n",
       "      <td>Job3137</td>\n",
       "      <td>0.82</td>\n",
       "    </tr>\n",
       "    <tr>\n",
       "      <td>2</td>\n",
       "      <td>Job4880</td>\n",
       "      <td>0.82</td>\n",
       "    </tr>\n",
       "    <tr>\n",
       "      <td>3</td>\n",
       "      <td>Job2788</td>\n",
       "      <td>0.76</td>\n",
       "    </tr>\n",
       "    <tr>\n",
       "      <td>4</td>\n",
       "      <td>Job2945</td>\n",
       "      <td>0.75</td>\n",
       "    </tr>\n",
       "  </tbody>\n",
       "</table>\n",
       "</div>"
      ],
      "text/plain": [
       "  Position ID  Similarity score\n",
       "0     Job2415              0.82\n",
       "1     Job3137              0.82\n",
       "2     Job4880              0.82\n",
       "3     Job2788              0.76\n",
       "4     Job2945              0.75"
      ]
     },
     "execution_count": 414,
     "metadata": {},
     "output_type": "execute_result"
    }
   ],
   "source": [
    "# Return 5 top positions\n",
    "top_pos = recommender(score.Resume1, 5)\n",
    "top_pos"
   ]
  },
  {
   "cell_type": "code",
   "execution_count": 362,
   "metadata": {
    "ExecuteTime": {
     "end_time": "2019-11-15T02:34:46.316804Z",
     "start_time": "2019-11-15T02:34:45.920765Z"
    }
   },
   "outputs": [
    {
     "data": {
      "text/plain": [
       "<matplotlib.axes._subplots.AxesSubplot at 0x150bcfef0>"
      ]
     },
     "execution_count": 362,
     "metadata": {},
     "output_type": "execute_result"
    },
    {
     "data": {
      "image/png": "[encoded data removed]",
      "text/plain": [
       "<Figure size 432x288 with 1 Axes>"
      ]
     },
     "metadata": {
      "needs_background": "light"
     },
     "output_type": "display_data"
    }
   ],
   "source": [
    "score.Resume4.plot()"
   ]
  },
  {
   "cell_type": "code",
   "execution_count": 338,
   "metadata": {
    "ExecuteTime": {
     "end_time": "2019-11-15T02:28:08.836495Z",
     "start_time": "2019-11-15T02:28:08.770297Z"
    }
   },
   "outputs": [
    {
     "data": {
      "text/html": [
       "<div>\n",
       "<style scoped>\n",
       "    .dataframe tbody tr th:only-of-type {\n",
       "        vertical-align: middle;\n",
       "    }\n",
       "\n",
       "    .dataframe tbody tr th {\n",
       "        vertical-align: top;\n",
       "    }\n",
       "\n",
       "    .dataframe thead th {\n",
       "        text-align: right;\n",
       "    }\n",
       "</style>\n",
       "<table border=\"1\" class=\"dataframe\">\n",
       "  <thead>\n",
       "    <tr style=\"text-align: right;\">\n",
       "      <th></th>\n",
       "      <th>Position ID</th>\n",
       "      <th>Similarity score</th>\n",
       "    </tr>\n",
       "  </thead>\n",
       "  <tbody>\n",
       "    <tr>\n",
       "      <td>0</td>\n",
       "      <td>4255</td>\n",
       "      <td>0.90</td>\n",
       "    </tr>\n",
       "    <tr>\n",
       "      <td>1</td>\n",
       "      <td>3475</td>\n",
       "      <td>0.87</td>\n",
       "    </tr>\n",
       "    <tr>\n",
       "      <td>2</td>\n",
       "      <td>1652</td>\n",
       "      <td>0.87</td>\n",
       "    </tr>\n",
       "    <tr>\n",
       "      <td>3</td>\n",
       "      <td>1185</td>\n",
       "      <td>0.87</td>\n",
       "    </tr>\n",
       "    <tr>\n",
       "      <td>4</td>\n",
       "      <td>967</td>\n",
       "      <td>0.87</td>\n",
       "    </tr>\n",
       "  </tbody>\n",
       "</table>\n",
       "</div>"
      ],
      "text/plain": [
       "   Position ID  Similarity score\n",
       "0         4255              0.90\n",
       "1         3475              0.87\n",
       "2         1652              0.87\n",
       "3         1185              0.87\n",
       "4          967              0.87"
      ]
     },
     "execution_count": 338,
     "metadata": {},
     "output_type": "execute_result"
    }
   ],
   "source": [
    "# Return 5 top positions\n",
    "top_pos = recommender(score.Resume2, 5)\n",
    "top_pos"
   ]
  },
  {
   "cell_type": "code",
   "execution_count": 290,
   "metadata": {
    "ExecuteTime": {
     "end_time": "2019-11-15T01:31:15.310331Z",
     "start_time": "2019-11-15T01:31:14.853211Z"
    }
   },
   "outputs": [
    {
     "data": {
      "text/plain": [
       "<matplotlib.axes._subplots.AxesSubplot at 0x16b3f5438>"
      ]
     },
     "execution_count": 290,
     "metadata": {},
     "output_type": "execute_result"
    },
    {
     "data": {
      "image/png": "[encoded data removed]",
      "text/plain": [
       "<Figure size 432x288 with 1 Axes>"
      ]
     },
     "metadata": {
      "needs_background": "light"
     },
     "output_type": "display_data"
    }
   ],
   "source": [
    "score.Resume5.plot()"
   ]
  },
  {
   "cell_type": "code",
   "execution_count": 337,
   "metadata": {
    "ExecuteTime": {
     "end_time": "2019-11-15T02:27:54.326994Z",
     "start_time": "2019-11-15T02:27:54.259872Z"
    }
   },
   "outputs": [],
   "source": [
    "# Look at description that return low cosine similarity\n",
    "score.loc[score.Resume2==0.02]\n",
    "# score.loc[score.description.isna()]\n",
    "score['Job_ID'] = score.index\n",
    "score.reset_index(inplace=True, drop=True)\n",
    "\n",
    "data = pd.concat([score,jobs_skills], axis=1)"
   ]
  },
  {
   "cell_type": "code",
   "execution_count": 114,
   "metadata": {
    "ExecuteTime": {
     "end_time": "2019-11-13T22:20:04.725533Z",
     "start_time": "2019-11-13T22:20:04.379949Z"
    }
   },
   "outputs": [
    {
     "data": {
      "text/plain": [
       "<matplotlib.axes._subplots.AxesSubplot at 0x138fbc4a8>"
      ]
     },
     "execution_count": 114,
     "metadata": {},
     "output_type": "execute_result"
    },
    {
     "data": {
      "image/png": "[encoded data removed]",
      "text/plain": [
       "<Figure size 432x288 with 1 Axes>"
      ]
     },
     "metadata": {
      "needs_background": "light"
     },
     "output_type": "display_data"
    }
   ],
   "source": [
    "# Non data science posting\n",
    "score.Resume11.plot()"
   ]
  },
  {
   "cell_type": "code",
   "execution_count": 447,
   "metadata": {
    "ExecuteTime": {
     "end_time": "2019-11-15T04:03:05.013547Z",
     "start_time": "2019-11-15T04:02:47.371957Z"
    }
   },
   "outputs": [],
   "source": [
    "## NMF\n",
    "nmf_vec_pos, nmf_vec_res = docs_to_topics_nmf(max_df=0.99,\n",
    "                  min_df = 0.0,\n",
    "                  stop_words = stop_words_1,\n",
    "                  components=20, \n",
    "                  positions=jobs_skills_d.noun_skills,\n",
    "                  word_num=5,\n",
    "                  resumes = resumes_tiny.noun_skills)\n",
    "\n",
    "# Cosine similarity\n",
    "score = cosine_sim.similarity(nmf_vec_pos, nmf_vec_res)\n",
    "\n",
    "# Return 5 top positions\n",
    "top_pos = recommender(score.Resume1, 10)"
   ]
  },
  {
   "cell_type": "code",
   "execution_count": 448,
   "metadata": {
    "ExecuteTime": {
     "end_time": "2019-11-15T04:03:05.456120Z",
     "start_time": "2019-11-15T04:03:05.015419Z"
    }
   },
   "outputs": [
    {
     "data": {
      "text/plain": [
       "<matplotlib.axes._subplots.AxesSubplot at 0x1473ec518>"
      ]
     },
     "execution_count": 448,
     "metadata": {},
     "output_type": "execute_result"
    },
    {
     "data": {
      "image/png": "[encoded data removed]",
      "text/plain": [
       "<Figure size 432x288 with 1 Axes>"
      ]
     },
     "metadata": {
      "needs_background": "light"
     },
     "output_type": "display_data"
    }
   ],
   "source": [
    "score.Resume1.plot()"
   ]
  },
  {
   "cell_type": "code",
   "execution_count": null,
   "metadata": {
    "ExecuteTime": {
     "end_time": "2019-11-13T01:07:18.895658Z",
     "start_time": "2019-11-13T01:07:16.104948Z"
    }
   },
   "outputs": [],
   "source": [
    "# LSA\n",
    "lsa_vec_pos, lsa_vec_res = docs_to_topics_lsa(max_df=0.99,\n",
    "                  min_df = 0.001,\n",
    "                  stop_words = stop_words_1,\n",
    "                  components=20, \n",
    "                  positions=jobs_skills_d.lemma_skills,\n",
    "                  word_num=5,\n",
    "                  resumes = resumes.lemma_skills)\n",
    "\n",
    "# Cosine similarity\n",
    "score = similarity(lsa_vec_pos, lsa_vec_res)\n",
    "\n",
    "# Return 5 top positions\n",
    "top_pos = recommender(score.Resume1, 5)\n",
    "top_pos_n = recommender(score.Resume6, 5)\n",
    "top_pos, top_pos_n"
   ]
  },
  {
   "cell_type": "code",
   "execution_count": null,
   "metadata": {
    "ExecuteTime": {
     "end_time": "2019-11-13T00:40:58.740655Z",
     "start_time": "2019-11-13T00:40:58.667460Z"
    }
   },
   "outputs": [],
   "source": [
    "score"
   ]
  },
  {
   "cell_type": "code",
   "execution_count": null,
   "metadata": {
    "ExecuteTime": {
     "end_time": "2019-11-13T00:43:15.051707Z",
     "start_time": "2019-11-13T00:43:14.963370Z"
    }
   },
   "outputs": [],
   "source": [
    "jobs_skills_d.skills[4627]"
   ]
  },
  {
   "cell_type": "code",
   "execution_count": null,
   "metadata": {
    "ExecuteTime": {
     "end_time": "2019-11-13T00:39:34.551110Z",
     "start_time": "2019-11-13T00:39:34.490991Z"
    }
   },
   "outputs": [],
   "source": [
    "resumes.description[5]"
   ]
  },
  {
   "cell_type": "code",
   "execution_count": null,
   "metadata": {
    "ExecuteTime": {
     "end_time": "2019-11-13T00:14:42.444227Z",
     "start_time": "2019-11-13T00:14:42.374154Z"
    }
   },
   "outputs": [],
   "source": [
    "top_pos = recommender(score.Resume7, 5)\n",
    "top_pos"
   ]
  },
  {
   "cell_type": "markdown",
   "metadata": {
    "ExecuteTime": {
     "end_time": "2019-11-08T00:12:59.978068Z",
     "start_time": "2019-11-08T00:12:59.973786Z"
    }
   },
   "source": [
    "# Functions"
   ]
  },
  {
   "cell_type": "code",
   "execution_count": 89,
   "metadata": {
    "ExecuteTime": {
     "end_time": "2019-11-14T23:07:21.296460Z",
     "start_time": "2019-11-14T23:07:21.239550Z"
    }
   },
   "outputs": [],
   "source": [
    "def recommender(score, num_pos):\n",
    "    best = score.sort_values(ascending=False)[:num_pos]\n",
    "    best = pd.Series.to_frame(best, name = 'Similarity score')\n",
    "    best.reset_index(level=0, inplace=True)\n",
    "    best.rename(columns={'index':'Position ID'}, inplace=True)\n",
    "    \n",
    "    return best"
   ]
  },
  {
   "cell_type": "code",
   "execution_count": 434,
   "metadata": {
    "ExecuteTime": {
     "end_time": "2019-11-15T03:59:26.064313Z",
     "start_time": "2019-11-15T03:59:25.998060Z"
    }
   },
   "outputs": [
    {
     "name": "stdout",
     "output_type": "stream",
     "text": [
      "Overwriting /Users/greenapple/project4/src/models/docs_and_topics.py\n"
     ]
    }
   ],
   "source": [
    "%%writefile '/Users/greenapple/project4/src/models/docs_and_topics.py'\n",
    "\n",
    "from src.models.stop_words_list_1 import stop_words_1\n",
    "from sklearn.metrics.pairwise import cosine_similarity\n",
    "from sklearn.feature_extraction.text import TfidfVectorizer\n",
    "from sklearn.decomposition import LatentDirichletAllocation \n",
    "from sklearn.decomposition import NMF\n",
    "\n",
    "def docs_to_topics_lda(\n",
    "                  components, \n",
    "                  word_num,\n",
    "                  positions,\n",
    "                  resumes,\n",
    "                  max_df=0.45,\n",
    "                  min_df = 0.001,\n",
    "                  stop_words = stop_words_1):\n",
    "    \n",
    "    tf_idf = TfidfVectorizer(ngram_range=(1, 2),\n",
    "                            max_df = max_df,\n",
    "                            min_df = min_df,\n",
    "                            stop_words = stop_words)   \n",
    "\n",
    "    components = components  # number of LSA components\n",
    "    lda = LatentDirichletAllocation(components, random_state = 5)\n",
    "\n",
    "    # reduce dimensionality\n",
    "    lda_vec_pos = lda.fit_transform(tf_idf.fit_transform(positions).toarray())  \n",
    "    lda_vec_res = lda.transform(tf_idf.transform(resumes).toarray())  \n",
    "    \n",
    "    return lda_vec_pos, lda_vec_res\n",
    "\n",
    "\n",
    "def docs_to_topics_lsa(max_df,\n",
    "                  min_df,\n",
    "                  stop_words,\n",
    "                  components, \n",
    "                  positions,\n",
    "                  word_num,\n",
    "                  resumes):\n",
    "    \n",
    "    tf_idf = TfidfVectorizer(ngram_range=(1, 2),\n",
    "                            max_df = max_df,\n",
    "                            min_df = min_df,\n",
    "                            stop_words = stop_words)   \n",
    "\n",
    "    components = components  # number of LSA components\n",
    "    lsa = TruncatedSVD(components, random_state = 5)\n",
    "\n",
    "    # reduce dimensionality\n",
    "    lsa_vec_pos = lsa.fit_transform(tf_idf.fit_transform(positions).toarray())  \n",
    "    lsa_vec_res = lsa.transform(tf_idf.transform(resumes).toarray())  \n",
    "    \n",
    "    return lsa_vec_pos, lsa_vec_res\n",
    "\n",
    "def docs_to_topics_lsa(max_df,\n",
    "                  min_df,\n",
    "                  stop_words,\n",
    "                  components, \n",
    "                  positions,\n",
    "                  word_num,\n",
    "                  resumes):\n",
    "    \n",
    "    tf_idf = TfidfVectorizer(ngram_range=(1, 2),\n",
    "                            max_df = max_df,\n",
    "                            min_df = min_df,\n",
    "                            stop_words = stop_words)   \n",
    "\n",
    "    components = components  # number of LSA components\n",
    "    lsa = TruncatedSVD(components, random_state = 5)\n",
    "\n",
    "    # reduce dimensionality\n",
    "    lsa_vec_pos = lsa.fit_transform(tf_idf.fit_transform(positions).toarray())  \n",
    "    lsa_vec_res = lsa.transform(tf_idf.transform(resumes).toarray())  \n",
    "    \n",
    "    return lsa_vec_pos, lsa_vec_res\n",
    "\n",
    "\n",
    "def docs_to_topics_nmf(max_df,\n",
    "                  min_df,\n",
    "                  stop_words,\n",
    "                  components, \n",
    "                  positions,\n",
    "                  word_num,\n",
    "                  resumes):\n",
    "    \n",
    "    tf_idf = TfidfVectorizer(ngram_range=(1, 2),\n",
    "                            max_df = max_df,\n",
    "                            min_df = min_df,\n",
    "                            stop_words = stop_words)   \n",
    "\n",
    "    components = components  # number of LSA components\n",
    "    nmf = NMF(components, random_state = 5)\n",
    "\n",
    "    # reduce dimensionality\n",
    "    nmf_vec_pos = nmf.fit_transform(tf_idf.fit_transform(positions).toarray())  \n",
    "    nmf_vec_res = nmf.transform(tf_idf.transform(resumes).toarray())  \n",
    "    \n",
    "    return nmf_vec_pos, nmf_vec_res"
   ]
  },
  {
   "cell_type": "code",
   "execution_count": 32,
   "metadata": {
    "ExecuteTime": {
     "end_time": "2019-11-13T23:51:08.608697Z",
     "start_time": "2019-11-13T23:51:08.533479Z"
    }
   },
   "outputs": [],
   "source": [
    "# Pre-process text\n",
    "def pre_process(text):\n",
    "    text_sub = re.sub('[/.\\n:-]', ' ', text)  # Remove \"/\" and \".\"\n",
    "    text_sub = re.sub('[,\\(\\)]', '', text_sub).lower()  # Remove \",\" and capital letters\n",
    "    text_sub = re.sub('[^a-z\\s]', '', text_sub) # Keep alphanumer characters only\n",
    "#     re.sub('[%s]' % re.escape(string.punctuation), ' ', my_text)\n",
    "\n",
    "    return text_sub"
   ]
  },
  {
   "cell_type": "code",
   "execution_count": 33,
   "metadata": {
    "ExecuteTime": {
     "end_time": "2019-11-13T23:51:09.153086Z",
     "start_time": "2019-11-13T23:51:09.055650Z"
    }
   },
   "outputs": [],
   "source": [
    "# Tokenize text\n",
    "def tokenize_lemma(text):\n",
    "        \n",
    "    # processer = spacy.load('en')\n",
    "    tokenizer = spacy.load('en_core_web_sm')\n",
    "\n",
    "    text_obj = tokenizer(text)\n",
    "    text_str = ' '.join([token.lemma_ for token in text_obj if not token.is_stop])\n",
    "    return text_str"
   ]
  },
  {
   "cell_type": "code",
   "execution_count": 34,
   "metadata": {
    "ExecuteTime": {
     "end_time": "2019-11-13T23:51:09.590184Z",
     "start_time": "2019-11-13T23:51:09.526357Z"
    }
   },
   "outputs": [],
   "source": [
    "# Vectorize\n",
    "def tf_idf(text1, text2):\n",
    "    tfidf = TfidfVectorizer(ngram_range=(1, 2),               # vectorizer\n",
    "                        stop_words='english', \n",
    "                        token_pattern=\"\\\\b[a-z][a-z]+\\\\b\")\n",
    "    X_tfidf = tfidf.fit_transform(text1).toarray()            # vectorize text1\n",
    "    Z_tfidf = tfidf.transform(text2).toarray()                # vectorize text1\n",
    "    \n",
    "    \n",
    "#     print('text1{}'.format(pd.DataFrame(X_tfidf, columns=tfidf.get_feature_names()).head(5)))\n",
    "#     print('text2{}'.format(pd.DataFrame(Z_tfidf, columns=tfidf.get_feature_names()).head(5)))\n",
    "    \n",
    "    return X_tfidf, Z_tfidf"
   ]
  },
  {
   "cell_type": "code",
   "execution_count": 35,
   "metadata": {
    "ExecuteTime": {
     "end_time": "2019-11-13T23:51:10.080974Z",
     "start_time": "2019-11-13T23:51:10.004359Z"
    }
   },
   "outputs": [],
   "source": [
    "# Reduce dimensionality:\n",
    "def lsa(X, Z):\n",
    "    lsa = TruncatedSVD(4)\n",
    "    X_lsa = lsa.fit_transform(X)\n",
    "    Z_lsa = lsa.transform(Z)\n",
    "  \n",
    "    \n",
    "    return X_lsa, Z_lsa"
   ]
  },
  {
   "cell_type": "code",
   "execution_count": 54,
   "metadata": {
    "ExecuteTime": {
     "end_time": "2019-11-14T22:37:42.151648Z",
     "start_time": "2019-11-14T22:37:42.088987Z"
    }
   },
   "outputs": [
    {
     "name": "stdout",
     "output_type": "stream",
     "text": [
      "Overwriting /Users/greenapple/project4/src/models/cosine_sim.py\n"
     ]
    }
   ],
   "source": [
    "%%writefile '/Users/greenapple/project4/src/models/cosine_sim.py'\n",
    "\n",
    "from sklearn.metrics.pairwise import cosine_similarity\n",
    "import pandas as pd\n",
    "\n",
    "def similarity(X_red, Z_red):\n",
    "    score = cosine_similarity(X_red, Z_red).round(2)\n",
    "    \n",
    "    column_labels = ['Resume'+str(i) for i in range(1, Z_red.shape[0]+1)]\n",
    "    row_labels = ['Job'+str(i) for i in range(1, X_red.shape[0]+1)]\n",
    "    \n",
    "    \n",
    "    \n",
    "    similarity_df = pd.DataFrame(score, columns=column_labels, index=row_labels)\n",
    "    \n",
    "    #Remove later\n",
    "#     similarity_df['clean_text '] = jobs_skills.clean_text\n",
    "#     similarity_df['type'] = jobs_skills.type\n",
    "#     similarity_df['job_title'] = jobs_skills.job_title\n",
    "#     similarity_df['description'] = jobs_skills.job_title\n",
    "    \n",
    "    return similarity_df"
   ]
  }
 ],
 "metadata": {
  "kernelspec": {
   "display_name": "Python [conda env:project4e]",
   "language": "python",
   "name": "conda-env-project4e-py"
  },
  "language_info": {
   "codemirror_mode": {
    "name": "ipython",
    "version": 3
   },
   "file_extension": ".py",
   "mimetype": "text/x-python",
   "name": "python",
   "nbconvert_exporter": "python",
   "pygments_lexer": "ipython3",
   "version": "3.7.3"
  },
  "toc": {
   "base_numbering": 1,
   "nav_menu": {},
   "number_sections": true,
   "sideBar": true,
   "skip_h1_title": false,
   "title_cell": "Table of Contents",
   "title_sidebar": "Contents",
   "toc_cell": false,
   "toc_position": {
    "height": "calc(100% - 180px)",
    "left": "10px",
    "top": "150px",
    "width": "288px"
   },
   "toc_section_display": true,
   "toc_window_display": true
  }
 },
 "nbformat": 4,
 "nbformat_minor": 2
}

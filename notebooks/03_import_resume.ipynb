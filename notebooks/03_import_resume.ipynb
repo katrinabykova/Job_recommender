{
 "cells": [
  {
   "cell_type": "code",
   "execution_count": 1,
   "metadata": {
    "ExecuteTime": {
     "end_time": "2019-11-13T00:36:49.925625Z",
     "start_time": "2019-11-13T00:36:49.060089Z"
    }
   },
   "outputs": [],
   "source": [
    "from PIL import Image\n",
    "import pytesseract\n",
    "import pickle\n"
   ]
  },
  {
   "cell_type": "code",
   "execution_count": 22,
   "metadata": {
    "ExecuteTime": {
     "end_time": "2019-11-04T18:39:13.464438Z",
     "start_time": "2019-11-04T18:38:58.913635Z"
    },
    "collapsed": true
   },
   "outputs": [
    {
     "name": "stdout",
     "output_type": "stream",
     "text": [
      "Collecting spacy\n",
      "\u001b[?25l  Downloading https://files.pythonhosted.org/packages/71/6d/d8501549be5b1cd8ccac0600ef65b9688abaf9443e4a6aa4370e39d96d6f/spacy-2.2.2-cp37-cp37m-macosx_10_6_intel.whl (14.2MB)\n",
      "\u001b[K     |████████████████████████████████| 14.2MB 3.9MB/s eta 0:00:01    |██████▉                         | 3.0MB 3.6MB/s eta 0:00:04\n",
      "\u001b[?25hCollecting cymem<2.1.0,>=2.0.2\n",
      "\u001b[?25l  Downloading https://files.pythonhosted.org/packages/d7/11/37da628920bf2999bd8c4ffc40908413622486d5dbc4e60d87a58c428367/cymem-2.0.2-cp37-cp37m-macosx_10_6_intel.macosx_10_9_intel.macosx_10_9_x86_64.macosx_10_10_intel.macosx_10_10_x86_64.whl (52kB)\n",
      "\u001b[K     |████████████████████████████████| 61kB 12.0MB/s eta 0:00:01\n",
      "\u001b[?25hCollecting plac<1.2.0,>=0.9.6\n",
      "  Downloading https://files.pythonhosted.org/packages/86/85/40b8f66c2dd8f4fd9f09d59b22720cffecf1331e788b8a0cab5bafb353d1/plac-1.1.3-py2.py3-none-any.whl\n",
      "Collecting srsly<1.1.0,>=0.1.0\n",
      "\u001b[?25l  Downloading https://files.pythonhosted.org/packages/44/ab/fa09de5430537c12f445d049f3a2bad75cee160e81aae3455d34977c1e0e/srsly-0.2.0-cp37-cp37m-macosx_10_6_intel.whl (275kB)\n",
      "\u001b[K     |████████████████████████████████| 276kB 12.7MB/s eta 0:00:01\n",
      "\u001b[?25hCollecting preshed<3.1.0,>=3.0.2\n",
      "\u001b[?25l  Downloading https://files.pythonhosted.org/packages/c7/3e/9aaba1f8c0cb69e57ebeb411cc1b65b3f6bfc3572dd68969a6d3e59288f6/preshed-3.0.2-cp37-cp37m-macosx_10_6_intel.macosx_10_9_intel.macosx_10_9_x86_64.macosx_10_10_intel.macosx_10_10_x86_64.whl (211kB)\n",
      "\u001b[K     |████████████████████████████████| 215kB 6.6MB/s eta 0:00:01\n",
      "\u001b[?25hCollecting murmurhash<1.1.0,>=0.28.0\n",
      "  Downloading https://files.pythonhosted.org/packages/b9/bd/faace403086ee922afc74e5615cb8c21020fcf5d5667314e943c08f71fde/murmurhash-1.0.2-cp37-cp37m-macosx_10_6_intel.macosx_10_9_intel.macosx_10_9_x86_64.macosx_10_10_intel.macosx_10_10_x86_64.whl\n",
      "Collecting wasabi<1.1.0,>=0.3.0\n",
      "  Downloading https://files.pythonhosted.org/packages/3f/35/6dc35bc3b49e160a016e420eb4bdcf1c887db6fd33a463959c06a508c339/wasabi-0.4.0-py3-none-any.whl\n",
      "Requirement already satisfied: numpy>=1.15.0 in /Users/greenapple/anaconda3/envs/project4/lib/python3.7/site-packages (from spacy) (1.17.2)\n",
      "Collecting blis<0.5.0,>=0.4.0\n",
      "\u001b[?25l  Downloading https://files.pythonhosted.org/packages/85/d8/f0be9d8ebec9cbeea1427de6ac0ecc919c0bfe881eff2d2965dbc310ca8b/blis-0.4.1-cp37-cp37m-macosx_10_6_intel.macosx_10_9_intel.macosx_10_9_x86_64.macosx_10_10_intel.macosx_10_10_x86_64.whl (4.0MB)\n",
      "\u001b[K     |████████████████████████████████| 4.0MB 4.0MB/s eta 0:00:01     |█████████                       | 1.1MB 4.0MB/s eta 0:00:01\n",
      "\u001b[?25hRequirement already satisfied: requests<3.0.0,>=2.13.0 in /Users/greenapple/anaconda3/envs/project4/lib/python3.7/site-packages (from spacy) (2.22.0)\n",
      "Requirement already satisfied: setuptools in /Users/greenapple/anaconda3/envs/project4/lib/python3.7/site-packages (from spacy) (41.2.0)\n",
      "Requirement already satisfied: importlib-metadata>=0.20; python_version < \"3.8\" in /Users/greenapple/anaconda3/envs/project4/lib/python3.7/site-packages (from spacy) (0.23)\n",
      "Collecting thinc<7.4.0,>=7.3.0\n",
      "\u001b[?25l  Downloading https://files.pythonhosted.org/packages/a6/87/c7da01c45bf3c138242f19f09b987d0ffa632ac7e8508527ee34d3ebbd81/thinc-7.3.1-cp37-cp37m-macosx_10_6_intel.whl (3.0MB)\n",
      "\u001b[K     |████████████████████████████████| 3.0MB 3.5MB/s eta 0:00:01\n",
      "\u001b[?25hRequirement already satisfied: chardet<3.1.0,>=3.0.2 in /Users/greenapple/anaconda3/envs/project4/lib/python3.7/site-packages (from requests<3.0.0,>=2.13.0->spacy) (3.0.4)\n",
      "Requirement already satisfied: certifi>=2017.4.17 in /Users/greenapple/anaconda3/envs/project4/lib/python3.7/site-packages (from requests<3.0.0,>=2.13.0->spacy) (2019.9.11)\n",
      "Requirement already satisfied: urllib3!=1.25.0,!=1.25.1,<1.26,>=1.21.1 in /Users/greenapple/anaconda3/envs/project4/lib/python3.7/site-packages (from requests<3.0.0,>=2.13.0->spacy) (1.25.6)\n",
      "Requirement already satisfied: idna<2.9,>=2.5 in /Users/greenapple/anaconda3/envs/project4/lib/python3.7/site-packages (from requests<3.0.0,>=2.13.0->spacy) (2.8)\n",
      "Requirement already satisfied: zipp>=0.5 in /Users/greenapple/anaconda3/envs/project4/lib/python3.7/site-packages (from importlib-metadata>=0.20; python_version < \"3.8\"->spacy) (0.6.0)\n",
      "Collecting tqdm<5.0.0,>=4.10.0\n",
      "\u001b[?25l  Downloading https://files.pythonhosted.org/packages/05/f2/764a5d530cf143ded9bc95216edb6e258c6554511e78de7c250557e8f3ed/tqdm-4.37.0-py2.py3-none-any.whl (53kB)\n",
      "\u001b[K     |████████████████████████████████| 61kB 4.4MB/s eta 0:00:011\n",
      "\u001b[?25hRequirement already satisfied: more-itertools in /Users/greenapple/anaconda3/envs/project4/lib/python3.7/site-packages (from zipp>=0.5->importlib-metadata>=0.20; python_version < \"3.8\"->spacy) (7.2.0)\n",
      "Installing collected packages: cymem, plac, srsly, murmurhash, preshed, wasabi, blis, tqdm, thinc, spacy\n",
      "Successfully installed blis-0.4.1 cymem-2.0.2 murmurhash-1.0.2 plac-1.1.3 preshed-3.0.2 spacy-2.2.2 srsly-0.2.0 thinc-7.3.1 tqdm-4.37.0 wasabi-0.4.0\n",
      "Note: you may need to restart the kernel to use updated packages.\n"
     ]
    }
   ],
   "source": [
    "# pip install spacy"
   ]
  },
  {
   "cell_type": "code",
   "execution_count": 24,
   "metadata": {
    "ExecuteTime": {
     "end_time": "2019-11-04T18:42:36.535291Z",
     "start_time": "2019-11-04T18:40:56.701391Z"
    },
    "collapsed": true
   },
   "outputs": [
    {
     "name": "stdout",
     "output_type": "stream",
     "text": [
      "Collecting en_core_web_sm==2.2.0\n",
      "\u001b[?25l  Downloading https://github.com/explosion/spacy-models/releases/download/en_core_web_sm-2.2.0/en_core_web_sm-2.2.0.tar.gz (12.0MB)\n",
      "\u001b[K     |████████████████████████████████| 12.0MB 422kB/s eta 0:00:01\n",
      "\u001b[?25hRequirement already satisfied: spacy>=2.2.0 in /Users/greenapple/anaconda3/envs/project4/lib/python3.7/site-packages (from en_core_web_sm==2.2.0) (2.2.2)\n",
      "Requirement already satisfied: preshed<3.1.0,>=3.0.2 in /Users/greenapple/anaconda3/envs/project4/lib/python3.7/site-packages (from spacy>=2.2.0->en_core_web_sm==2.2.0) (3.0.2)\n",
      "Requirement already satisfied: srsly<1.1.0,>=0.1.0 in /Users/greenapple/anaconda3/envs/project4/lib/python3.7/site-packages (from spacy>=2.2.0->en_core_web_sm==2.2.0) (0.2.0)\n",
      "Requirement already satisfied: cymem<2.1.0,>=2.0.2 in /Users/greenapple/anaconda3/envs/project4/lib/python3.7/site-packages (from spacy>=2.2.0->en_core_web_sm==2.2.0) (2.0.2)\n",
      "Requirement already satisfied: plac<1.2.0,>=0.9.6 in /Users/greenapple/anaconda3/envs/project4/lib/python3.7/site-packages (from spacy>=2.2.0->en_core_web_sm==2.2.0) (1.1.3)\n",
      "Requirement already satisfied: wasabi<1.1.0,>=0.3.0 in /Users/greenapple/anaconda3/envs/project4/lib/python3.7/site-packages (from spacy>=2.2.0->en_core_web_sm==2.2.0) (0.4.0)\n",
      "Requirement already satisfied: importlib-metadata>=0.20; python_version < \"3.8\" in /Users/greenapple/anaconda3/envs/project4/lib/python3.7/site-packages (from spacy>=2.2.0->en_core_web_sm==2.2.0) (0.23)\n",
      "Requirement already satisfied: murmurhash<1.1.0,>=0.28.0 in /Users/greenapple/anaconda3/envs/project4/lib/python3.7/site-packages (from spacy>=2.2.0->en_core_web_sm==2.2.0) (1.0.2)\n",
      "Requirement already satisfied: setuptools in /Users/greenapple/anaconda3/envs/project4/lib/python3.7/site-packages (from spacy>=2.2.0->en_core_web_sm==2.2.0) (41.2.0)\n",
      "Requirement already satisfied: blis<0.5.0,>=0.4.0 in /Users/greenapple/anaconda3/envs/project4/lib/python3.7/site-packages (from spacy>=2.2.0->en_core_web_sm==2.2.0) (0.4.1)\n",
      "Requirement already satisfied: requests<3.0.0,>=2.13.0 in /Users/greenapple/anaconda3/envs/project4/lib/python3.7/site-packages (from spacy>=2.2.0->en_core_web_sm==2.2.0) (2.22.0)\n",
      "Requirement already satisfied: numpy>=1.15.0 in /Users/greenapple/anaconda3/envs/project4/lib/python3.7/site-packages (from spacy>=2.2.0->en_core_web_sm==2.2.0) (1.17.2)\n",
      "Requirement already satisfied: thinc<7.4.0,>=7.3.0 in /Users/greenapple/anaconda3/envs/project4/lib/python3.7/site-packages (from spacy>=2.2.0->en_core_web_sm==2.2.0) (7.3.1)\n",
      "Requirement already satisfied: zipp>=0.5 in /Users/greenapple/anaconda3/envs/project4/lib/python3.7/site-packages (from importlib-metadata>=0.20; python_version < \"3.8\"->spacy>=2.2.0->en_core_web_sm==2.2.0) (0.6.0)\n",
      "Requirement already satisfied: certifi>=2017.4.17 in /Users/greenapple/anaconda3/envs/project4/lib/python3.7/site-packages (from requests<3.0.0,>=2.13.0->spacy>=2.2.0->en_core_web_sm==2.2.0) (2019.9.11)\n",
      "Requirement already satisfied: chardet<3.1.0,>=3.0.2 in /Users/greenapple/anaconda3/envs/project4/lib/python3.7/site-packages (from requests<3.0.0,>=2.13.0->spacy>=2.2.0->en_core_web_sm==2.2.0) (3.0.4)\n",
      "Requirement already satisfied: idna<2.9,>=2.5 in /Users/greenapple/anaconda3/envs/project4/lib/python3.7/site-packages (from requests<3.0.0,>=2.13.0->spacy>=2.2.0->en_core_web_sm==2.2.0) (2.8)\n",
      "Requirement already satisfied: urllib3!=1.25.0,!=1.25.1,<1.26,>=1.21.1 in /Users/greenapple/anaconda3/envs/project4/lib/python3.7/site-packages (from requests<3.0.0,>=2.13.0->spacy>=2.2.0->en_core_web_sm==2.2.0) (1.25.6)\n",
      "Requirement already satisfied: tqdm<5.0.0,>=4.10.0 in /Users/greenapple/anaconda3/envs/project4/lib/python3.7/site-packages (from thinc<7.4.0,>=7.3.0->spacy>=2.2.0->en_core_web_sm==2.2.0) (4.37.0)\n",
      "Requirement already satisfied: more-itertools in /Users/greenapple/anaconda3/envs/project4/lib/python3.7/site-packages (from zipp>=0.5->importlib-metadata>=0.20; python_version < \"3.8\"->spacy>=2.2.0->en_core_web_sm==2.2.0) (7.2.0)\n",
      "Building wheels for collected packages: en-core-web-sm\n",
      "  Building wheel for en-core-web-sm (setup.py) ... \u001b[?25ldone\n",
      "\u001b[?25h  Created wheel for en-core-web-sm: filename=en_core_web_sm-2.2.0-cp37-none-any.whl size=12019125 sha256=0fe7d087f94a8c32467591358b3348272f98c10c758d702d36b4412a4abef561\n",
      "  Stored in directory: /private/var/folders/9d/pt375qsx1sg7tw87j_50qn_80000gp/T/pip-ephem-wheel-cache-gnse3y6q/wheels/48/5c/1c/15f9d02afc8221a668d2172446dd8467b20cdb9aef80a172a4\n",
      "Successfully built en-core-web-sm\n",
      "Installing collected packages: en-core-web-sm\n",
      "Successfully installed en-core-web-sm-2.2.0\n",
      "\u001b[38;5;2m✔ Download and installation successful\u001b[0m\n",
      "You can now load the model via spacy.load('en_core_web_sm')\n"
     ]
    }
   ],
   "source": [
    "# !python -m spacy download en_core_web_sm"
   ]
  },
  {
   "cell_type": "code",
   "execution_count": 25,
   "metadata": {
    "ExecuteTime": {
     "end_time": "2019-11-04T18:43:06.793633Z",
     "start_time": "2019-11-04T18:43:05.370493Z"
    }
   },
   "outputs": [
    {
     "name": "stdout",
     "output_type": "stream",
     "text": [
      "\r\n",
      "\u001b[38;5;1m✘ No compatible model found for 'en_core_web_lm' (spaCy v2.2.2).\u001b[0m\r\n",
      "\r\n"
     ]
    }
   ],
   "source": [
    "!python -m spacy download en_core_web_lm"
   ]
  },
  {
   "cell_type": "code",
   "execution_count": 2,
   "metadata": {
    "ExecuteTime": {
     "end_time": "2019-11-13T00:36:58.622761Z",
     "start_time": "2019-11-13T00:36:58.579305Z"
    }
   },
   "outputs": [],
   "source": [
    "%load_ext autoreload\n",
    "%autoreload 2"
   ]
  },
  {
   "cell_type": "code",
   "execution_count": 3,
   "metadata": {
    "ExecuteTime": {
     "end_time": "2019-11-13T00:37:00.273227Z",
     "start_time": "2019-11-13T00:37:00.244031Z"
    }
   },
   "outputs": [],
   "source": [
    "pytesseract.pytesseract.tesseract_cmd = r'/usr/local/Cellar/tesseract/4.1.0/bin/tesseract'"
   ]
  },
  {
   "cell_type": "code",
   "execution_count": 4,
   "metadata": {
    "ExecuteTime": {
     "end_time": "2019-11-13T00:37:13.726059Z",
     "start_time": "2019-11-13T00:37:01.775169Z"
    }
   },
   "outputs": [],
   "source": [
    "# Convers resume images to text\n",
    "resume1 = pytesseract.image_to_string(Image.open('/Users/greenapple/project4/data/resumes/cvg9xj4t2is6sxqpvvsm.jpg'))\n",
    "resume2 = pytesseract.image_to_string(Image.open('/Users/greenapple/project4/data/resumes/1568349830.jpeg'))\n",
    "resume3 = pytesseract.image_to_string(Image.open('/Users/greenapple/project4/data/resumes/xxj9gfsox4ytaj0fyf8z.jpg'))\n",
    "\n",
    "resume_list = [resume1, resume2, resume3]\n",
    "\n",
    "pickling_in = open('/Users/greenapple/project4/data/resumes/resumes_110419', 'wb')\n",
    "pickle.dump(resume_list, pickling_in)"
   ]
  },
  {
   "cell_type": "code",
   "execution_count": 7,
   "metadata": {
    "ExecuteTime": {
     "end_time": "2019-11-13T01:16:15.250978Z",
     "start_time": "2019-11-13T01:16:08.917323Z"
    }
   },
   "outputs": [],
   "source": [
    "# Convers resume images to text\n",
    "# resume_1 = pytesseract.image_to_string(Image.open('/Users/greenapple/project4/data/resumes/1.png'))\n",
    "# resume_2 = pytesseract.image_to_string(Image.open('/Users/greenapple/project4/data/resumes/2.png'))\n",
    "# resume_3 = pytesseract.image_to_string(Image.open('/Users/greenapple/project4/data/resumes/3.png'))\n",
    "# resume_4 = pytesseract.image_to_string(Image.open('/Users/greenapple/project4/data/resumes/4.png'))\n",
    "# resume_5 = pytesseract.image_to_string(Image.open('/Users/greenapple/project4/data/resumes/5.png'))\n",
    "# resume_6 = pytesseract.image_to_string(Image.open('/Users/greenapple/project4/data/resumes/clinical-trials-assistant-resume-sample.jpeg'))\n",
    "resume_7 = pytesseract.image_to_string(Image.open('/Users/greenapple/project4/data/resumes/clinical-research-coordinator-1564477467-pdf.jpg'))\n",
    "resume_8 = pytesseract.image_to_string(Image.open('/Users/greenapple/project4/data/resumes/regina-mosley-ccrc.png'))\n",
    "resume_9 = pytesseract.image_to_string(Image.open('/Users/greenapple/project4/data/resumes/clinical-trials-manager-resume-sample11.jpeg'))\n",
    "\n",
    "resume_l = [resume_1, resume_2, resume_3, resume_4, resume_5, resume_6, resume_7, resume_8, resume_9]\n",
    "\n",
    "pickling_in = open('/Users/greenapple/project4/data/resumes/resumes_111219', 'wb')\n",
    "pickle.dump(resume_l, pickling_in)\n",
    "\n",
    "\n",
    "\n"
   ]
  },
  {
   "cell_type": "code",
   "execution_count": 10,
   "metadata": {
    "ExecuteTime": {
     "end_time": "2019-11-13T01:16:33.452653Z",
     "start_time": "2019-11-13T01:16:33.414719Z"
    }
   },
   "outputs": [
    {
     "data": {
      "text/plain": [
       "'EXPERIENCE\\n\\nEDUCATION\\n\\nSKILLS\\n\\nKattie Pouros\\n\\n1243 Christy Rue, Philadelphia, PA # Phone: +1 (555) 760 7462\\n\\nSENIOR CLINICAL TRIALS MANAGER\\nBoston, MA\\n12/2014 — present\\n‘© Assists in all aspects related to the management of clinical trial data\\n‘¢ Assists in development of study-related documents including CRFs, IBs, PMs, ICFs, CSRs, SOPs\\n+ Provides study specific training of CRO staff, monitors, investigational sites, and other vendors\\n‘© Assist in planning and managing investigator meetings, other trial specific meetings, KOL meetings in the\\nassigned region\\n‘* Manages and oversees the conduct of various tasks carried out by the Contract Research Organization\\n+ Participates and manages all aspects of assigned clinical studies from the planning stage to close-out,\\n‘© Manages multiple Haemonetics Sponsored and Investigator Sponsored Trials simultaneously across the\\nassigned region/geographies\\n\\n  \\n\\n \\n\\nLEAD CLINICAL TRIALS MANAGER\\n\\nPhiladelphia, PA\\n12/2010 - 07/2014\\n\\n‘* Initiate improvements to enhance the efficiency and the qu:\\nprojects\\n\\n+ Initiate improvements, tools, processes, and forms to enhance the efficiency and the qu:\\nPhase 2/3 Data Operations\\n\\n‘+ Leads a team of Clinical Trial Managers and /or Data Coordinators and reports issues/concerns to Data\\n\\nOperations Manager\\n\\nMeets with physician lead to provide necessary updates\\n\\nMaintains case report forms tracking management database\\n\\nAssists sponsor and US FDA audit teams\\n\\nAssists in ensuring physician oversight by updating on protocol issues and obtaining signatures and\\n\\nclinical significance of laboratory reports, ECGs, and adverse events\\n\\n \\n\\ny of the work performed on assigned\\n\\n \\n\\ny of work of\\n\\n \\n\\n \\n\\nCLINICAL TRIALS MANAGER\\n\\nHouston, TX\\n06/2006 ~ 07/2010\\n\\n‘* Assists with developing quality control mechanisms to ensure accurate data reporting. May assist with\\ndatabase development and CRF accuracy and implementation\\n\\n‘+ Provides clinical input for new product development, post market surveillance, recertification and\\nbusiness development\\n\\n+ Identify, establish, support, and develop relationships with key clinical and non-clinical decision-makers\\n\\n+ Analyze new regulations and guidelines and proactively makes process improvement recommendations\\n\\n‘* Manage the day to day activities of the physical archive which may include the management of\\ncontractors and support staff\\n\\n‘+ Determines and regulates research staff workloads and protocol assignments; serves as a link to principal\\ninvestigators in management of staff\\n\\n+ Provides clinical input to product development activities\\n\\nUNIVERSITY OF WASHINGTON\\nBachelor’s Degree in Biology\\n\\n+ Ability to communicate conceptually detailed and complex information effectively and professionally with\\na wide range of people\\n\\n‘* Able to demonstrate professional knowledge within clinical trials management to give advice and\\nguidance to internal and external customers\\n\\n‘© Knowledge of Quality Assurance/Quality Control processes\\n\\n‘* Demonstrates strong oral and written communication skills including the ability to prepare training\\nmaterial, administrative guides and manuals#LI-AO1\\n\\n‘* Knowledge of Food and Drug Administration (FDA) regulations and Good Clinical Practices (GCP)\\n\\n‘* Provides knowledge and expertise on country specific regulations, site experience, and suitability for\\ndevelopment studies\\n\\n+ Ability to solve problems and deal with a variety of concrete variables in situations where only limited\\nstandardization exists\\n\\n‘Strong customer focus with the ability to communicate effectively, both verbally and in writing\\n\\n‘* Demonstrated knowledge of clinical research concepts, good clinical practices and regulatory compliance\\n\\n+ Ability to read, analyze and interpret professional journals, technical procedures, and/or government\\nregulations'"
      ]
     },
     "execution_count": 10,
     "metadata": {},
     "output_type": "execute_result"
    }
   ],
   "source": [
    "resume_9"
   ]
  },
  {
   "cell_type": "code",
   "execution_count": null,
   "metadata": {},
   "outputs": [],
   "source": []
  }
 ],
 "metadata": {
  "kernelspec": {
   "display_name": "Python [conda env:project4] *",
   "language": "python",
   "name": "conda-env-project4-py"
  },
  "language_info": {
   "codemirror_mode": {
    "name": "ipython",
    "version": 3
   },
   "file_extension": ".py",
   "mimetype": "text/x-python",
   "name": "python",
   "nbconvert_exporter": "python",
   "pygments_lexer": "ipython3",
   "version": "3.7.3"
  },
  "toc": {
   "base_numbering": 1,
   "nav_menu": {},
   "number_sections": true,
   "sideBar": true,
   "skip_h1_title": false,
   "title_cell": "Table of Contents",
   "title_sidebar": "Contents",
   "toc_cell": false,
   "toc_position": {},
   "toc_section_display": true,
   "toc_window_display": true
  }
 },
 "nbformat": 4,
 "nbformat_minor": 2
}
